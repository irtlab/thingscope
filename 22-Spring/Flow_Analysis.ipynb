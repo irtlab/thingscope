{
 "cells": [
  {
   "cell_type": "markdown",
   "metadata": {},
   "source": [
    "## Import Essential Libraries"
   ]
  },
  {
   "cell_type": "code",
   "execution_count": 143,
   "metadata": {},
   "outputs": [],
   "source": [
    "import sys\n",
    "import os\n",
    "import glob\n",
    "import matplotlib.pyplot as plt\n",
    "from datetime import datetime\n",
    "import seaborn as sns\n",
    "import collections\n",
    "import hashlib\n",
    "import smote_variants as sv\n",
    "import pandas  as pd\n",
    "import matplotlib.pyplot as plt\n",
    "import numpy as np\n",
    "import imbalanced_databases as imbd\n",
    "from sklearn import metrics\n",
    "from sklearn.datasets import load_wine\n",
    "from sklearn.metrics import roc_curve, auc, roc_auc_score\n",
    "from sklearn.metrics import confusion_matrix\n",
    "from sklearn import metrics\n",
    "from sklearn.metrics import plot_roc_curve\n",
    "from imblearn.over_sampling import SMOTE\n",
    "from sklearn.model_selection import train_test_split\n",
    "from sklearn.linear_model import LassoCV\n",
    "from sklearn.ensemble import RandomForestClassifier\n",
    "from sklearn.feature_selection import SelectFromModel\n",
    "from sklearn.utils import resample\n",
    "from sklearn.preprocessing import StandardScaler\n",
    "from sklearn.pipeline import Pipeline\n",
    "from sklearn.model_selection import train_test_split, GridSearchCV\n",
    "from sklearn.linear_model import Lasso\n",
    "import warnings\n",
    "from sklearn.feature_selection import mutual_info_regression, mutual_info_classif\n",
    "from sklearn.neighbors import KNeighborsClassifier\n",
    "from collections import Counter\n",
    "import json\n",
    "\n",
    "%matplotlib inline\n",
    "from sklearn.model_selection import train_test_split\n",
    "warnings.filterwarnings('ignore')\n",
    "time_to_date = lambda t: datetime.utcfromtimestamp(t).strftime('%Y-%m-%d %H:%M:%S')"
   ]
  },
  {
   "cell_type": "markdown",
   "metadata": {},
   "source": [
    "## Import Flows"
   ]
  },
  {
   "cell_type": "code",
   "execution_count": 144,
   "metadata": {},
   "outputs": [],
   "source": [
    "## Trainning flow data for 20 iot devices \n",
    "\n",
    "filepath1 = 'flow_data/training/IoTAnalytics-TP-Link-Smart-plug_flows.csv'\n",
    "switch_flows = pd.read_csv(filepath1, index_col=None, header=0, delimiter='\\t')\n",
    "switch_flows[\"label\"] = 1\n",
    "filepath2 = 'flow_data/training/MoniotrPublic_google_home_mini_flows.csv'\n",
    "homemini_flows = pd.read_csv(filepath2, index_col=None, header=0, delimiter='\\t')\n",
    "homemini_flows[\"label\"] = 2\n",
    "filepath3 = 'flow_data/training/MoniotrPublic_cloudcam_flows.csv'\n",
    "camera_flows = pd.read_csv(filepath3, index_col=None, header=0, delimiter='\\t')\n",
    "camera_flows[\"label\"] = 3\n",
    "filepath4 = 'flow_data/training/MoniotrPublic_washer_flows.csv'\n",
    "washer_flows = pd.read_csv(filepath4, index_col=None, header=0, delimiter='\\t')\n",
    "washer_flows[\"label\"] = 4\n",
    "filepath5 = 'flow_data/training/MoniotrPublic_zmodo-doorbell_flows.csv'\n",
    "doorbell_flows = pd.read_csv(filepath5, index_col=None, header=0, delimiter='\\t')\n",
    "doorbell_flows[\"label\"] = 5\n",
    "filepath6 = 'flow_data/training/MoniotrPublic_philips-bulb_flows.csv'\n",
    "bulb_flows = pd.read_csv(filepath6, index_col=None, header=0, delimiter='\\t')\n",
    "bulb_flows[\"label\"] = 6\n",
    "filepath7 = 'flow_data/training/MoniotrPublic_microwave_flows.csv'\n",
    "microwave_flows = pd.read_csv(filepath7, index_col=None, header=0, delimiter='\\t')\n",
    "microwave_flows[\"label\"] = 7\n",
    "filepath8 = 'flow_data/training/MoniotrPublic_smartthings-hub_flows.csv'\n",
    "hub_flows = pd.read_csv(filepath8, index_col=None, header=0, delimiter='\\t')\n",
    "hub_flows[\"label\"] = 8\n",
    "filepath9 = 'flow_data/training/MoniotrPublic_microseven-camera_flows.csv'\n",
    "microseven_camera_flows = pd.read_csv(filepath9, index_col=None, header=0, delimiter='\\t')\n",
    "microseven_camera_flows[\"label\"] = 9\n",
    "filepath10 = 'flow_data/training/MoniotrPublic_dryer_flows.csv'\n",
    "dryer_flows = pd.read_csv(filepath10, index_col=None, header=0, delimiter='\\t')\n",
    "dryer_flows[\"label\"] = 10\n",
    "filepath11 = 'flow_data/training/MoniotrPublic_fridge_flows.csv'\n",
    "fridge_flows = pd.read_csv(filepath11, index_col=None, header=0, delimiter='\\t')\n",
    "fridge_flows[\"label\"] = 11\n",
    "filepath12 = 'flow_data/training/MoniotrPublic_ikettle_flows.csv'\n",
    "ikettle_flows = pd.read_csv(filepath12, index_col=None, header=0, delimiter='\\t')\n",
    "ikettle_flows[\"label\"] = 12\n",
    "filepath13 = 'flow_data/training/MoniotrPublic_xiaomi-ricecooker_flows.csv'\n",
    "ricecooker_flows = pd.read_csv(filepath13, index_col=None, header=0, delimiter='\\t')\n",
    "ricecooker_flows[\"label\"] = 13\n",
    "filepath14 = 'flow_data/training/MoniotrPublic_echospot_flows.csv'\n",
    "echospot_flows = pd.read_csv(filepath14, index_col=None, header=0, delimiter='\\t')\n",
    "echospot_flows[\"label\"] = 14\n",
    "filepath15 = 'flow_data/training/MoniotrPublic_magichome-strip_flows.csv'\n",
    "strip_flows = pd.read_csv(filepath15, index_col=None, header=0, delimiter='\\t')\n",
    "strip_flows[\"label\"] = 15\n",
    "filepath16 = 'flow_data/training/IoTAnalytics_Withings-Smart-Baby-Monitor_flows.csv'\n",
    "Baby_Monitor_flows = pd.read_csv(filepath16, index_col=None, header=0, delimiter='\\t')\n",
    "Baby_Monitor_flows[\"label\"] = 16\n",
    "filepath17 = 'flow_data/training/IoTAnalytics_HP-Printer_flows.csv'\n",
    "Printer_flows = pd.read_csv(filepath17, index_col=None, header=0, delimiter='\\t')\n",
    "Printer_flows[\"label\"] = 17\n",
    "filepath18 = 'flow_data/training/IoTAnalytics_Triby-Speaker_flows.csv'\n",
    "Speaker_flows = pd.read_csv(filepath18, index_col=None, header=0, delimiter='\\t')\n",
    "Speaker_flows[\"label\"] = 18\n",
    "filepath19 = 'flow_data/training/IoTAnalytics_iHome_flows.csv'\n",
    "iHome_flows = pd.read_csv(filepath19, index_col=None, header=0, delimiter='\\t')\n",
    "iHome_flows[\"label\"] = 19\n",
    "filepath20 = 'flow_data/training/IoTAnalytics_Amazon-Echo_flows.csv'\n",
    "Echo_flows = pd.read_csv(filepath20, index_col=None, header=0, delimiter='\\t')\n",
    "Echo_flows[\"label\"] = 20\n"
   ]
  },
  {
   "cell_type": "code",
   "execution_count": 145,
   "metadata": {},
   "outputs": [],
   "source": [
    "### Testing flow data for 15 iot devices \n",
    "\n",
    "filepath21 = 'flow_data/testing/google-home-mini_flows.csv'\n",
    "t_homemini_flows = pd.read_csv(filepath21, index_col=None, header=0, delimiter='\\t')\n",
    "t_homemini_flows[\"label\"] = 2\n",
    "filepath22 = 'flow_data/testing/smartthings-hub_flows.csv'\n",
    "t_hub_flows = pd.read_csv(filepath22, index_col=None, header=0, delimiter='\\t')\n",
    "t_hub_flows[\"label\"] = 8\n",
    "filepath23 = 'flow_data/testing/tplink-plug_flows.csv'\n",
    "t_plug_flows = pd.read_csv(filepath23, index_col=None, header=0, delimiter='\\t')\n",
    "t_plug_flows[\"label\"] = 1\n",
    "filepath24 = 'flow_data/testing/echospot_flows.csv'\n",
    "t_echospot_flows = pd.read_csv(filepath24, index_col=None, header=0, delimiter='\\t')\n",
    "t_echospot_flows[\"label\"] = 14\n",
    "filepath25 = 'flow_data/testing/cloudcam_flows.csv'\n",
    "t_cloudcam_flows = pd.read_csv(filepath25, index_col=None, header=0, delimiter='\\t')\n",
    "t_cloudcam_flows[\"label\"] = 3\n",
    "filepath26 = 'flow_data/testing/fridge_flows.csv'\n",
    "t_fridge_flows = pd.read_csv(filepath26, index_col=None, header=0, delimiter='\\t')\n",
    "t_fridge_flows[\"label\"] = 11\n",
    "filepath27 = 'flow_data/testing/magichome-strip_flows.csv'\n",
    "t_magichome_flows = pd.read_csv(filepath27, index_col=None, header=0, delimiter='\\t')\n",
    "t_magichome_flows[\"label\"] = 15\n",
    "filepath28 = 'flow_data/testing/philips-bulb_flows.csv'\n",
    "t_blub_flows = pd.read_csv(filepath28, index_col=None, header=0, delimiter='\\t')\n",
    "t_blub_flows[\"label\"] = 6\n",
    "filepath29 = 'flow_data/testing/washer_flows.csv'\n",
    "t_washed_flows = pd.read_csv(filepath29, index_col=None, header=0, delimiter='\\t')\n",
    "t_washed_flows[\"label\"] = 4\n",
    "filepath30 = 'flow_data/testing/xiaomi-ricecooker_flows.csv'\n",
    "t_ricecooker_flows = pd.read_csv(filepath30, index_col=None, header=0, delimiter='\\t')\n",
    "t_ricecooker_flows[\"label\"] = 13\n",
    "filepath31 = 'flow_data/testing/ikettle_flows.csv'\n",
    "t_ikettle_flows = pd.read_csv(filepath31, index_col=None, header=0, delimiter='\\t')\n",
    "t_ikettle_flows[\"label\"] = 12\n",
    "filepath32 = 'flow_data/testing/zmodo-doorbell_flows.csv'\n",
    "t_doorbell_flows = pd.read_csv(filepath32, index_col=None, header=0, delimiter='\\t')\n",
    "t_doorbell_flows[\"label\"] = 5\n",
    "filepath33 = 'flow_data/testing/dryer_flows.csv'\n",
    "t_dryer_flows = pd.read_csv(filepath33, index_col=None, header=0, delimiter='\\t')\n",
    "t_dryer_flows[\"label\"] = 10\n",
    "filepath34 = 'flow_data/testing/microseven-camera_flows.csv'\n",
    "t_microseven_flows = pd.read_csv(filepath34, index_col=None, header=0, delimiter='\\t')\n",
    "t_microseven_flows[\"label\"] = 9\n",
    "filepath35 = 'flow_data/testing/microwave_flows.csv'\n",
    "t_microwave_flows = pd.read_csv(filepath35, index_col=None, header=0, delimiter='\\t')\n",
    "t_microwave_flows[\"label\"] = 7\n"
   ]
  },
  {
   "cell_type": "markdown",
   "metadata": {},
   "source": [
    "## Data Pre-processing : Data Cleaning and Oversampling "
   ]
  },
  {
   "cell_type": "code",
   "execution_count": 146,
   "metadata": {},
   "outputs": [],
   "source": [
    "not_used_features = ['timeFirst', 'timeLast','dstPort', 'srcPort', 'dstIP', \n",
    "                      'dstMac', 'srcIP', 'srcMac', 'srcMac_dstMac_numP','ethVlanID','ipOptCpCl_Num',\n",
    "                     'icmpBFTypH_TypL_Code', 'ip6OptHH_D', 'ip6OptCntHH_D']\n",
    "\n",
    "hex_features = ['flowStat', 'tcpFStat', 'ipTOS', 'ipFlags', 'ethType',\n",
    "                 'tcpStates', 'icmpStat', 'icmpTmGtw', 'macStat','tcpAnomaly', \n",
    "                'tcpFlags',  'tcpMPF', 'tcpMPTBF', 'tcpMPdssF', 'tcpOptions']\n",
    "\n",
    "\n",
    "string_features = ['%dir', 'hdrDesc', 'srcManuf_dstManuf', 'dstPortClass', \n",
    "                   'srcIPCC', 'dstIPCC', 'dstIPOrg', 'srcIPOrg']\n",
    "\n",
    "features = ['duration', 'numHdrDesc', 'numHdrs',\n",
    "             'l4Proto', 'macPairs', 'dstPortClassN', 'numPktsSnt', 'numPktsRcvd',\n",
    "            'numBytesSnt', 'numBytesRcvd', 'minPktSz', 'maxPktSz', 'avePktSize', 'stdPktSize', 'pktps', 'bytps',\n",
    "            'pktAsm', 'bytAsm', 'ipMindIPID', 'ipMaxdIPID', 'ipMinTTL', 'ipMaxTTL', 'ipTTLChg', 'ipOptCnt',\n",
    "            'tcpPSeqCnt', 'tcpSeqSntBytes', 'tcpSeqFaultCnt', 'tcpPAckCnt', 'tcpFlwLssAckRcvdBytes', 'tcpAckFaultCnt',\n",
    "            'tcpInitWinSz', 'tcpAveWinSz', 'tcpMinWinSz', 'tcpMaxWinSz', 'tcpWinSzDwnCnt', 'tcpWinSzUpCnt',\n",
    "            'tcpWinSzChgDirCnt', 'tcpOptPktCnt', 'tcpOptCnt', 'tcpMSS', 'tcpWS', 'tcpTmS', 'tcpTmER', 'tcpEcI',\n",
    "            'tcpBtm', 'tcpSSASAATrip', 'tcpRTTAckTripMin', 'tcpRTTAckTripMax', 'tcpRTTAckTripAve',\n",
    "            'tcpRTTAckTripJitAve', 'tcpRTTSseqAA', 'tcpRTTAckJitAve', 'icmpTCcnt', 'icmpEchoSuccRatio', 'icmpPFindex',\n",
    "            'connSip', 'connDip', 'connSipDip', 'connSipDprt', 'connF',  'aveIAT', 'maxIAT', \n",
    "                'minIAT', 'stdIAT', 'tcpISeqN', 'tcpMPAID', 'tcpUtm', 'tcpWinSzThRt','label']"
   ]
  },
  {
   "cell_type": "code",
   "execution_count": 148,
   "metadata": {},
   "outputs": [],
   "source": [
    "flows = pd.concat([ switch_flows[features], homemini_flows[features],camera_flows[features],\n",
    "                   washer_flows[features],doorbell_flows[features],hub_flows[features],\n",
    "                   microseven_camera_flows[features],bulb_flows[features],microwave_flows[features],\n",
    "                   dryer_flows[features],fridge_flows[features],ikettle_flows[features],\n",
    "                   ricecooker_flows[features],echospot_flows[features],strip_flows[features],\n",
    "                   Baby_Monitor_flows[features],\n",
    "                   Speaker_flows[features],iHome_flows[features],Echo_flows[features],Printer_flows[features]\n",
    "                    ], axis=0, ignore_index=True)"
   ]
  },
  {
   "cell_type": "code",
   "execution_count": 149,
   "metadata": {},
   "outputs": [],
   "source": [
    "testing_flows = pd.concat([t_homemini_flows[features], t_hub_flows[features],t_plug_flows[features],\n",
    "                           t_echospot_flows[features],t_cloudcam_flows[features],t_fridge_flows[features],\n",
    "                           t_magichome_flows[features],t_blub_flows[features],t_washed_flows[features],\n",
    "                           t_ricecooker_flows[features],t_ikettle_flows[features],t_doorbell_flows[features],\n",
    "                           t_dryer_flows[features],t_microseven_flows[features],t_microwave_flows[features]  \n",
    "                           ], axis=0, ignore_index=True)"
   ]
  },
  {
   "cell_type": "code",
   "execution_count": 150,
   "metadata": {},
   "outputs": [
    {
     "name": "stdout",
     "output_type": "stream",
     "text": [
      "duration      0.0\n",
      "numHdrDesc    0.0\n",
      "numHdrs       0.0\n",
      "l4Proto       0.0\n",
      "macPairs      0.0\n",
      "dtype: float64\n"
     ]
    }
   ],
   "source": [
    "# check missing values \n",
    "print((flows.isnull().sum()/len(testing_flows)*100).nlargest())"
   ]
  },
  {
   "cell_type": "code",
   "execution_count": 151,
   "metadata": {},
   "outputs": [
    {
     "data": {
      "text/plain": [
       "10    21081\n",
       "5     16343\n",
       "4     15581\n",
       "20     8182\n",
       "8      6013\n",
       "11     4171\n",
       "2      4076\n",
       "14     3034\n",
       "16     1596\n",
       "1      1024\n",
       "3       923\n",
       "18      563\n",
       "17      539\n",
       "9       372\n",
       "7       298\n",
       "13      276\n",
       "6       276\n",
       "15      250\n",
       "12      244\n",
       "19      188\n",
       "Name: label, dtype: int64"
      ]
     },
     "execution_count": 151,
     "metadata": {},
     "output_type": "execute_result"
    }
   ],
   "source": [
    "## Check the number of flows in each IoT device \n",
    "flows['label'].value_counts()"
   ]
  },
  {
   "cell_type": "code",
   "execution_count": 152,
   "metadata": {},
   "outputs": [],
   "source": [
    "## since data is not balanced we use SMOTE to prevent bias in classification \n",
    "\n",
    "x = flows.iloc[:, flows.columns != 'label']\n",
    "y = flows.iloc[:, flows.columns == 'label']\n",
    "\n",
    "smote = SMOTE()\n",
    "# fit predictor and target variable\n",
    "x_smote, y_smote = smote.fit_resample(x, y)\n"
   ]
  },
  {
   "cell_type": "code",
   "execution_count": 153,
   "metadata": {},
   "outputs": [],
   "source": [
    "x_smote['label'] = y_smote['label']\n",
    "flows = x_smote"
   ]
  },
  {
   "cell_type": "code",
   "execution_count": 154,
   "metadata": {},
   "outputs": [
    {
     "data": {
      "text/html": [
       "<div>\n",
       "<style scoped>\n",
       "    .dataframe tbody tr th:only-of-type {\n",
       "        vertical-align: middle;\n",
       "    }\n",
       "\n",
       "    .dataframe tbody tr th {\n",
       "        vertical-align: top;\n",
       "    }\n",
       "\n",
       "    .dataframe thead th {\n",
       "        text-align: right;\n",
       "    }\n",
       "</style>\n",
       "<table border=\"1\" class=\"dataframe\">\n",
       "  <thead>\n",
       "    <tr style=\"text-align: right;\">\n",
       "      <th></th>\n",
       "      <th>duration</th>\n",
       "      <th>numHdrDesc</th>\n",
       "      <th>numHdrs</th>\n",
       "      <th>l4Proto</th>\n",
       "      <th>macPairs</th>\n",
       "      <th>dstPortClassN</th>\n",
       "      <th>numPktsSnt</th>\n",
       "      <th>numPktsRcvd</th>\n",
       "      <th>numBytesSnt</th>\n",
       "      <th>numBytesRcvd</th>\n",
       "      <th>...</th>\n",
       "      <th>connF</th>\n",
       "      <th>aveIAT</th>\n",
       "      <th>maxIAT</th>\n",
       "      <th>minIAT</th>\n",
       "      <th>stdIAT</th>\n",
       "      <th>tcpISeqN</th>\n",
       "      <th>tcpMPAID</th>\n",
       "      <th>tcpUtm</th>\n",
       "      <th>tcpWinSzThRt</th>\n",
       "      <th>label</th>\n",
       "    </tr>\n",
       "  </thead>\n",
       "  <tbody>\n",
       "    <tr>\n",
       "      <th>0</th>\n",
       "      <td>0.0</td>\n",
       "      <td>1</td>\n",
       "      <td>2</td>\n",
       "      <td>0</td>\n",
       "      <td>1</td>\n",
       "      <td>0</td>\n",
       "      <td>1</td>\n",
       "      <td>1</td>\n",
       "      <td>28</td>\n",
       "      <td>28</td>\n",
       "      <td>...</td>\n",
       "      <td>0.0</td>\n",
       "      <td>0.0</td>\n",
       "      <td>0.0</td>\n",
       "      <td>0</td>\n",
       "      <td>0.0</td>\n",
       "      <td>0</td>\n",
       "      <td>0</td>\n",
       "      <td>0.0</td>\n",
       "      <td>0</td>\n",
       "      <td>1</td>\n",
       "    </tr>\n",
       "    <tr>\n",
       "      <th>1</th>\n",
       "      <td>0.0</td>\n",
       "      <td>1</td>\n",
       "      <td>2</td>\n",
       "      <td>0</td>\n",
       "      <td>1</td>\n",
       "      <td>0</td>\n",
       "      <td>1</td>\n",
       "      <td>1</td>\n",
       "      <td>28</td>\n",
       "      <td>28</td>\n",
       "      <td>...</td>\n",
       "      <td>0.0</td>\n",
       "      <td>0.0</td>\n",
       "      <td>0.0</td>\n",
       "      <td>0</td>\n",
       "      <td>0.0</td>\n",
       "      <td>0</td>\n",
       "      <td>0</td>\n",
       "      <td>0.0</td>\n",
       "      <td>0</td>\n",
       "      <td>1</td>\n",
       "    </tr>\n",
       "    <tr>\n",
       "      <th>2</th>\n",
       "      <td>0.0</td>\n",
       "      <td>1</td>\n",
       "      <td>2</td>\n",
       "      <td>0</td>\n",
       "      <td>1</td>\n",
       "      <td>0</td>\n",
       "      <td>1</td>\n",
       "      <td>1</td>\n",
       "      <td>28</td>\n",
       "      <td>28</td>\n",
       "      <td>...</td>\n",
       "      <td>0.0</td>\n",
       "      <td>0.0</td>\n",
       "      <td>0.0</td>\n",
       "      <td>0</td>\n",
       "      <td>0.0</td>\n",
       "      <td>0</td>\n",
       "      <td>0</td>\n",
       "      <td>0.0</td>\n",
       "      <td>0</td>\n",
       "      <td>1</td>\n",
       "    </tr>\n",
       "    <tr>\n",
       "      <th>3</th>\n",
       "      <td>0.0</td>\n",
       "      <td>1</td>\n",
       "      <td>2</td>\n",
       "      <td>0</td>\n",
       "      <td>1</td>\n",
       "      <td>0</td>\n",
       "      <td>1</td>\n",
       "      <td>1</td>\n",
       "      <td>28</td>\n",
       "      <td>28</td>\n",
       "      <td>...</td>\n",
       "      <td>0.0</td>\n",
       "      <td>0.0</td>\n",
       "      <td>0.0</td>\n",
       "      <td>0</td>\n",
       "      <td>0.0</td>\n",
       "      <td>0</td>\n",
       "      <td>0</td>\n",
       "      <td>0.0</td>\n",
       "      <td>0</td>\n",
       "      <td>1</td>\n",
       "    </tr>\n",
       "    <tr>\n",
       "      <th>4</th>\n",
       "      <td>0.0</td>\n",
       "      <td>1</td>\n",
       "      <td>2</td>\n",
       "      <td>0</td>\n",
       "      <td>1</td>\n",
       "      <td>0</td>\n",
       "      <td>1</td>\n",
       "      <td>0</td>\n",
       "      <td>99</td>\n",
       "      <td>0</td>\n",
       "      <td>...</td>\n",
       "      <td>0.0</td>\n",
       "      <td>0.0</td>\n",
       "      <td>0.0</td>\n",
       "      <td>0</td>\n",
       "      <td>0.0</td>\n",
       "      <td>0</td>\n",
       "      <td>0</td>\n",
       "      <td>0.0</td>\n",
       "      <td>0</td>\n",
       "      <td>1</td>\n",
       "    </tr>\n",
       "  </tbody>\n",
       "</table>\n",
       "<p>5 rows × 69 columns</p>\n",
       "</div>"
      ],
      "text/plain": [
       "   duration  numHdrDesc  numHdrs  l4Proto  macPairs  dstPortClassN  \\\n",
       "0       0.0           1        2        0         1              0   \n",
       "1       0.0           1        2        0         1              0   \n",
       "2       0.0           1        2        0         1              0   \n",
       "3       0.0           1        2        0         1              0   \n",
       "4       0.0           1        2        0         1              0   \n",
       "\n",
       "   numPktsSnt  numPktsRcvd  numBytesSnt  numBytesRcvd  ...  connF  aveIAT  \\\n",
       "0           1            1           28            28  ...    0.0     0.0   \n",
       "1           1            1           28            28  ...    0.0     0.0   \n",
       "2           1            1           28            28  ...    0.0     0.0   \n",
       "3           1            1           28            28  ...    0.0     0.0   \n",
       "4           1            0           99             0  ...    0.0     0.0   \n",
       "\n",
       "   maxIAT  minIAT  stdIAT  tcpISeqN  tcpMPAID  tcpUtm  tcpWinSzThRt  label  \n",
       "0     0.0       0     0.0         0         0     0.0             0      1  \n",
       "1     0.0       0     0.0         0         0     0.0             0      1  \n",
       "2     0.0       0     0.0         0         0     0.0             0      1  \n",
       "3     0.0       0     0.0         0         0     0.0             0      1  \n",
       "4     0.0       0     0.0         0         0     0.0             0      1  \n",
       "\n",
       "[5 rows x 69 columns]"
      ]
     },
     "execution_count": 154,
     "metadata": {},
     "output_type": "execute_result"
    }
   ],
   "source": [
    "flows.head()"
   ]
  },
  {
   "cell_type": "code",
   "execution_count": 155,
   "metadata": {},
   "outputs": [
    {
     "data": {
      "text/plain": [
       "1     21081\n",
       "2     21081\n",
       "20    21081\n",
       "19    21081\n",
       "18    21081\n",
       "16    21081\n",
       "15    21081\n",
       "14    21081\n",
       "13    21081\n",
       "12    21081\n",
       "11    21081\n",
       "10    21081\n",
       "7     21081\n",
       "6     21081\n",
       "9     21081\n",
       "8     21081\n",
       "5     21081\n",
       "4     21081\n",
       "3     21081\n",
       "17    21081\n",
       "Name: label, dtype: int64"
      ]
     },
     "execution_count": 155,
     "metadata": {},
     "output_type": "execute_result"
    }
   ],
   "source": [
    "y_smote['label'].value_counts()"
   ]
  },
  {
   "cell_type": "markdown",
   "metadata": {},
   "source": [
    "## Feature selection "
   ]
  },
  {
   "cell_type": "markdown",
   "metadata": {},
   "source": [
    "## 1- Filter method"
   ]
  },
  {
   "cell_type": "markdown",
   "metadata": {},
   "source": [
    "### 1.1 Identify input features having high correlation with target variable"
   ]
  },
  {
   "cell_type": "code",
   "execution_count": 156,
   "metadata": {},
   "outputs": [
    {
     "name": "stdout",
     "output_type": "stream",
     "text": [
      "numBytesRcvd      -0.014379\n",
      "tcpWinSzThRt            NaN\n",
      "maxPktSz          -0.234712\n",
      "connSip           -0.031628\n",
      "tcpWinSzThRt            NaN\n",
      "                     ...   \n",
      "tcpRTTAckJitAve    0.006212\n",
      "bytps             -0.045361\n",
      "tcpWinSzThRt            NaN\n",
      "pktps             -0.039239\n",
      "tcpWinSzThRt            NaN\n",
      "Length: 68, dtype: float64\n"
     ]
    }
   ],
   "source": [
    "importances = flows.drop(\"label\", axis=1).apply(lambda x : x.corr(flows.label))\n",
    "indices = np.argsort(importances)\n",
    "print(importances[indices])"
   ]
  },
  {
   "cell_type": "code",
   "execution_count": 157,
   "metadata": {},
   "outputs": [
    {
     "name": "stdout",
     "output_type": "stream",
     "text": [
      "duration 0.060526200932468216\n",
      "l4Proto 0.07096676631245462\n",
      "minPktSz 0.028881574969240004\n",
      "pktAsm 0.22510554038996922\n",
      "bytAsm 0.15293856395989372\n",
      "ipMindIPID 0.10073481220086763\n",
      "ipTTLChg 0.009611641546215504\n",
      "ipOptCnt 0.015072637409217448\n",
      "tcpPSeqCnt 0.00832770804195313\n",
      "tcpPAckCnt 0.010937525494920834\n",
      "tcpAckFaultCnt 0.012244695164767824\n",
      "tcpWinSzDwnCnt 0.02144443039878467\n",
      "tcpWinSzChgDirCnt 0.017085453055315572\n",
      "tcpOptPktCnt 0.011682994959621575\n",
      "tcpOptCnt 0.011293001675481414\n",
      "tcpWS 0.01093536044043062\n",
      "tcpSSASAATrip 0.0069115092403324785\n",
      "tcpRTTAckTripMin 0.0874981444035943\n",
      "tcpRTTAckTripMax 0.005761268964017593\n",
      "tcpRTTAckTripAve 0.0072506853967699795\n",
      "tcpRTTAckTripJitAve 0.005814479799546965\n",
      "tcpRTTSseqAA 0.008763072843229988\n",
      "tcpRTTAckJitAve 0.006212140580789214\n",
      "icmpTCcnt 0.03383955572763087\n",
      "icmpEchoSuccRatio 0.11920319740165745\n",
      "aveIAT 0.0255366792157835\n",
      "maxIAT 0.01913676060758695\n",
      "stdIAT 0.016382192046955353\n",
      "tcpUtm 0.05096894387753679\n"
     ]
    }
   ],
   "source": [
    "importan_features = []\n",
    "for i in range(0, len(indices)):\n",
    "    if np.abs(importances[i]>0):\n",
    "        importan_features.append(features[i])\n",
    "        print(features[i],importances[i])\n"
   ]
  },
  {
   "cell_type": "code",
   "execution_count": 158,
   "metadata": {},
   "outputs": [
    {
     "data": {
      "image/png": "[encoded data removed]",
      "text/plain": [
       "<Figure size 1080x936 with 1 Axes>"
      ]
     },
     "metadata": {
      "needs_background": "light"
     },
     "output_type": "display_data"
    }
   ],
   "source": [
    "plt.figure(figsize=(15,13))\n",
    "plt.title('Features correlation with target')\n",
    "plt.barh(range(len(indices)), importances[indices], color='g', align='center')\n",
    "plt.yticks(range(len(indices)), [features[i] for i in indices])\n",
    "plt.xlabel('Relative Importance')\n",
    "plt.show()\n"
   ]
  },
  {
   "cell_type": "markdown",
   "metadata": {},
   "source": [
    "### 1.2 Identify features having high correlation with other features"
   ]
  },
  {
   "cell_type": "code",
   "execution_count": 159,
   "metadata": {},
   "outputs": [
    {
     "data": {
      "image/png": "[encoded data removed]",
      "text/plain": [
       "<Figure size 1080x936 with 2 Axes>"
      ]
     },
     "metadata": {
      "needs_background": "light"
     },
     "output_type": "display_data"
    }
   ],
   "source": [
    "data_1 = flows[importan_features]\n",
    "corr = data_1.iloc[:, :-1].corr()\n",
    "plt.figure(figsize=(15,13))\n",
    "sns.heatmap(corr,\n",
    "            xticklabels=corr.columns,\n",
    "            yticklabels=corr.columns)\n",
    "plt.show()"
   ]
  },
  {
   "cell_type": "code",
   "execution_count": 160,
   "metadata": {},
   "outputs": [
    {
     "name": "stdout",
     "output_type": "stream",
     "text": [
      "ipTTLChg  is highly  correlated  with  tcpAckFaultCnt\n",
      "tcpPAckCnt  is highly  correlated  with  tcpOptPktCnt\n",
      "tcpPAckCnt  is highly  correlated  with  tcpOptCnt\n",
      "tcpAckFaultCnt  is highly  correlated  with  ipTTLChg\n",
      "tcpWinSzDwnCnt  is highly  correlated  with  tcpWinSzChgDirCnt\n",
      "tcpWinSzChgDirCnt  is highly  correlated  with  tcpWinSzDwnCnt\n",
      "tcpOptPktCnt  is highly  correlated  with  tcpPAckCnt\n",
      "tcpOptPktCnt  is highly  correlated  with  tcpOptCnt\n",
      "tcpOptCnt  is highly  correlated  with  tcpPAckCnt\n",
      "tcpOptCnt  is highly  correlated  with  tcpOptPktCnt\n",
      "tcpSSASAATrip  is highly  correlated  with  tcpRTTAckTripMax\n",
      "tcpSSASAATrip  is highly  correlated  with  tcpRTTAckTripAve\n",
      "tcpSSASAATrip  is highly  correlated  with  tcpRTTAckTripJitAve\n",
      "tcpSSASAATrip  is highly  correlated  with  tcpRTTAckJitAve\n",
      "tcpSSASAATrip  is highly  correlated  with  aveIAT\n",
      "tcpRTTAckTripMax  is highly  correlated  with  tcpSSASAATrip\n",
      "tcpRTTAckTripMax  is highly  correlated  with  tcpRTTAckTripAve\n",
      "tcpRTTAckTripMax  is highly  correlated  with  tcpRTTAckTripJitAve\n",
      "tcpRTTAckTripMax  is highly  correlated  with  tcpRTTAckJitAve\n",
      "tcpRTTAckTripMax  is highly  correlated  with  aveIAT\n",
      "tcpRTTAckTripMax  is highly  correlated  with  maxIAT\n",
      "tcpRTTAckTripMax  is highly  correlated  with  stdIAT\n",
      "tcpRTTAckTripAve  is highly  correlated  with  tcpSSASAATrip\n",
      "tcpRTTAckTripAve  is highly  correlated  with  tcpRTTAckTripMax\n",
      "tcpRTTAckTripAve  is highly  correlated  with  tcpRTTAckTripJitAve\n",
      "tcpRTTAckTripAve  is highly  correlated  with  tcpRTTSseqAA\n",
      "tcpRTTAckTripAve  is highly  correlated  with  tcpRTTAckJitAve\n",
      "tcpRTTAckTripAve  is highly  correlated  with  aveIAT\n",
      "tcpRTTAckTripAve  is highly  correlated  with  maxIAT\n",
      "tcpRTTAckTripAve  is highly  correlated  with  stdIAT\n",
      "tcpRTTAckTripJitAve  is highly  correlated  with  tcpSSASAATrip\n",
      "tcpRTTAckTripJitAve  is highly  correlated  with  tcpRTTAckTripMax\n",
      "tcpRTTAckTripJitAve  is highly  correlated  with  tcpRTTAckTripAve\n",
      "tcpRTTAckTripJitAve  is highly  correlated  with  tcpRTTAckJitAve\n",
      "tcpRTTAckTripJitAve  is highly  correlated  with  aveIAT\n",
      "tcpRTTAckTripJitAve  is highly  correlated  with  maxIAT\n",
      "tcpRTTAckTripJitAve  is highly  correlated  with  stdIAT\n",
      "tcpRTTSseqAA  is highly  correlated  with  tcpRTTAckTripAve\n",
      "tcpRTTAckJitAve  is highly  correlated  with  tcpSSASAATrip\n",
      "tcpRTTAckJitAve  is highly  correlated  with  tcpRTTAckTripMax\n",
      "tcpRTTAckJitAve  is highly  correlated  with  tcpRTTAckTripAve\n",
      "tcpRTTAckJitAve  is highly  correlated  with  tcpRTTAckTripJitAve\n",
      "tcpRTTAckJitAve  is highly  correlated  with  aveIAT\n",
      "tcpRTTAckJitAve  is highly  correlated  with  maxIAT\n",
      "tcpRTTAckJitAve  is highly  correlated  with  stdIAT\n",
      "aveIAT  is highly  correlated  with  tcpSSASAATrip\n",
      "aveIAT  is highly  correlated  with  tcpRTTAckTripMax\n",
      "aveIAT  is highly  correlated  with  tcpRTTAckTripAve\n",
      "aveIAT  is highly  correlated  with  tcpRTTAckTripJitAve\n",
      "aveIAT  is highly  correlated  with  tcpRTTAckJitAve\n",
      "aveIAT  is highly  correlated  with  maxIAT\n",
      "aveIAT  is highly  correlated  with  stdIAT\n",
      "maxIAT  is highly  correlated  with  tcpRTTAckTripMax\n",
      "maxIAT  is highly  correlated  with  tcpRTTAckTripAve\n",
      "maxIAT  is highly  correlated  with  tcpRTTAckTripJitAve\n",
      "maxIAT  is highly  correlated  with  tcpRTTAckJitAve\n",
      "maxIAT  is highly  correlated  with  aveIAT\n",
      "maxIAT  is highly  correlated  with  stdIAT\n",
      "stdIAT  is highly  correlated  with  tcpRTTAckTripMax\n",
      "stdIAT  is highly  correlated  with  tcpRTTAckTripAve\n",
      "stdIAT  is highly  correlated  with  tcpRTTAckTripJitAve\n",
      "stdIAT  is highly  correlated  with  tcpRTTAckJitAve\n",
      "stdIAT  is highly  correlated  with  aveIAT\n",
      "stdIAT  is highly  correlated  with  maxIAT\n"
     ]
    }
   ],
   "source": [
    "highly_corr = []\n",
    "m = 0\n",
    "for i in range(0,len(data_1.columns)):\n",
    "    for j in  range(0,len(data_1.columns)):\n",
    "        if i!=j:\n",
    "            corr_1=np.abs(data_1[data_1.columns[i]].corr(data_1[data_1.columns[j]]))\n",
    "            if corr_1>0.75:\n",
    "                highly_corr.append(data_1.columns[i])\n",
    "                print( data_1.columns[i] , \" is highly  correlated  with \", data_1.columns[j])"
   ]
  },
  {
   "cell_type": "code",
   "execution_count": 161,
   "metadata": {},
   "outputs": [],
   "source": [
    "importan_features.remove(\"tcpOptCnt\")\n",
    "importan_features.remove(\"tcpSSASAATrip\")\n",
    "importan_features.remove(\"tcpRTTAckTripAve\")\n",
    "importan_features.remove(\"tcpRTTAckJitAve\")\n",
    "importan_features.remove(\"tcpRTTAckTripMax\")\n",
    "importan_features.remove(\"tcpRTTAckTripJitAve\")\n",
    "importan_features.remove(\"maxIAT\")\n",
    "importan_features.remove(\"stdIAT\")\n",
    "importan_features.remove(\"tcpAckFaultCnt\")\n",
    "importan_features.remove(\"tcpWinSzDwnCnt\")\n",
    "importan_features.remove(\"tcpOptPktCnt\")\n"
   ]
  },
  {
   "cell_type": "code",
   "execution_count": 162,
   "metadata": {},
   "outputs": [],
   "source": [
    "### make sure there is no high corrleation left \n",
    "data_1 = flows[importan_features]\n",
    "highly_corr = []\n",
    "m = 0\n",
    "for i in range(0,len(data_1.columns)):\n",
    "    for j in  range(0,len(data_1.columns)):\n",
    "        if i!=j:\n",
    "            corr_1=np.abs(data_1[data_1.columns[i]].corr(data_1[data_1.columns[j]]))\n",
    "            if corr_1>0.75:\n",
    "                highly_corr.append(data_1.columns[i])\n",
    "                print( data_1.columns[i] , \" is highly  correlated  with \", data_1.columns[j])"
   ]
  },
  {
   "cell_type": "code",
   "execution_count": 163,
   "metadata": {},
   "outputs": [
    {
     "data": {
      "text/plain": [
       "18"
      ]
     },
     "execution_count": 163,
     "metadata": {},
     "output_type": "execute_result"
    }
   ],
   "source": [
    "len(importan_features)"
   ]
  },
  {
   "cell_type": "markdown",
   "metadata": {},
   "source": [
    "### 1.3 Identify features that have high information gain with respect to the target variable"
   ]
  },
  {
   "cell_type": "code",
   "execution_count": 164,
   "metadata": {},
   "outputs": [
    {
     "data": {
      "text/plain": [
       "<AxesSubplot:>"
      ]
     },
     "execution_count": 164,
     "metadata": {},
     "output_type": "execute_result"
    },
    {
     "data": {
      "image/png": "[encoded data removed]",
      "text/plain": [
       "<Figure size 720x288 with 1 Axes>"
      ]
     },
     "metadata": {
      "needs_background": "light"
     },
     "output_type": "display_data"
    }
   ],
   "source": [
    "data_3 = flows[importan_features]\n",
    "labels = flows['label']\n",
    "mi = mutual_info_regression(data_3, labels)\n",
    "mi = pd.Series(mi)\n",
    "mi.index = data_3.columns\n",
    "mi.sort_values(ascending=False)\n",
    "mi.sort_values(ascending=False).plot.bar(figsize=(10, 4))"
   ]
  },
  {
   "cell_type": "code",
   "execution_count": 165,
   "metadata": {},
   "outputs": [],
   "source": [
    "importan_features.remove(\"icmpEchoSuccRatio\")\n",
    "importan_features.remove(\"ipTTLChg\")\n",
    "importan_features.remove(\"ipOptCnt\")"
   ]
  },
  {
   "cell_type": "code",
   "execution_count": 166,
   "metadata": {},
   "outputs": [
    {
     "data": {
      "text/plain": [
       "15"
      ]
     },
     "execution_count": 166,
     "metadata": {},
     "output_type": "execute_result"
    }
   ],
   "source": [
    "len(importan_features)"
   ]
  },
  {
   "cell_type": "markdown",
   "metadata": {},
   "source": [
    "## 2 - Lasso"
   ]
  },
  {
   "cell_type": "code",
   "execution_count": 145,
   "metadata": {},
   "outputs": [],
   "source": [
    "pipeline = Pipeline([\n",
    "                     ('model',Lasso())\n",
    "])"
   ]
  },
  {
   "cell_type": "code",
   "execution_count": 147,
   "metadata": {},
   "outputs": [],
   "source": [
    "# Used for splitting and normalizing dataset.\n",
    "#def test_scale()\n",
    "X2_train = flows.iloc[:, flows.columns != 'label']\n",
    "y2_train = flows.iloc[:, flows.columns == 'label']\n",
    "\n",
    "X2_test = testing_flows.iloc[:, testing_flows.columns != 'label']\n",
    "y2_test = testing_flows.iloc[:, testing_flows.columns == 'label']\n",
    "\n",
    "#Normalizing\n",
    "sc_X = StandardScaler()\n",
    "X2_train = sc_X.fit_transform(X2_train)\n",
    "X2_test = sc_X.transform(X2_test)"
   ]
  },
  {
   "cell_type": "code",
   "execution_count": 148,
   "metadata": {},
   "outputs": [
    {
     "name": "stdout",
     "output_type": "stream",
     "text": [
      "Fitting 5 folds for each of 100 candidates, totalling 500 fits\n",
      "[CV 1/5] END ..................model__alpha=0.0;, score=0.113 total time=   3.6s\n",
      "[CV 2/5] END ..................model__alpha=0.0;, score=0.107 total time=   3.5s\n",
      "[CV 3/5] END ..................model__alpha=0.0;, score=0.113 total time=   3.7s\n",
      "[CV 4/5] END ..................model__alpha=0.0;, score=0.107 total time=   3.5s\n",
      "[CV 5/5] END ..................model__alpha=0.0;, score=0.111 total time=   3.4s\n",
      "[CV 1/5] END ..................model__alpha=0.1;, score=0.105 total time=   0.1s\n",
      "[CV 2/5] END ..................model__alpha=0.1;, score=0.100 total time=   0.1s\n",
      "[CV 3/5] END ..................model__alpha=0.1;, score=0.105 total time=   0.1s\n",
      "[CV 4/5] END ..................model__alpha=0.1;, score=0.101 total time=   0.1s\n",
      "[CV 5/5] END ..................model__alpha=0.1;, score=0.103 total time=   0.1s\n",
      "[CV 1/5] END ..................model__alpha=0.2;, score=0.092 total time=   0.1s\n",
      "[CV 2/5] END ..................model__alpha=0.2;, score=0.089 total time=   0.1s\n",
      "[CV 3/5] END ..................model__alpha=0.2;, score=0.093 total time=   0.1s\n",
      "[CV 4/5] END ..................model__alpha=0.2;, score=0.090 total time=   0.1s\n",
      "[CV 5/5] END ..................model__alpha=0.2;, score=0.091 total time=   0.1s\n",
      "[CV 1/5] END ..model__alpha=0.30000000000000004;, score=0.077 total time=   0.1s\n",
      "[CV 2/5] END ..model__alpha=0.30000000000000004;, score=0.076 total time=   0.1s\n",
      "[CV 3/5] END ..model__alpha=0.30000000000000004;, score=0.079 total time=   0.1s\n",
      "[CV 4/5] END ..model__alpha=0.30000000000000004;, score=0.077 total time=   0.1s\n",
      "[CV 5/5] END ..model__alpha=0.30000000000000004;, score=0.078 total time=   0.1s\n",
      "[CV 1/5] END ..................model__alpha=0.4;, score=0.064 total time=   0.1s\n",
      "[CV 2/5] END ..................model__alpha=0.4;, score=0.064 total time=   0.1s\n",
      "[CV 3/5] END ..................model__alpha=0.4;, score=0.066 total time=   0.1s\n",
      "[CV 4/5] END ..................model__alpha=0.4;, score=0.065 total time=   0.1s\n",
      "[CV 5/5] END ..................model__alpha=0.4;, score=0.066 total time=   0.1s\n",
      "[CV 1/5] END ..................model__alpha=0.5;, score=0.053 total time=   0.1s\n",
      "[CV 2/5] END ..................model__alpha=0.5;, score=0.053 total time=   0.1s\n",
      "[CV 3/5] END ..................model__alpha=0.5;, score=0.055 total time=   0.1s\n",
      "[CV 4/5] END ..................model__alpha=0.5;, score=0.054 total time=   0.1s\n",
      "[CV 5/5] END ..................model__alpha=0.5;, score=0.055 total time=   0.1s\n",
      "[CV 1/5] END ...model__alpha=0.6000000000000001;, score=0.044 total time=   0.1s\n",
      "[CV 2/5] END ...model__alpha=0.6000000000000001;, score=0.043 total time=   0.1s\n",
      "[CV 3/5] END ...model__alpha=0.6000000000000001;, score=0.044 total time=   0.1s\n",
      "[CV 4/5] END ...model__alpha=0.6000000000000001;, score=0.044 total time=   0.1s\n",
      "[CV 5/5] END ...model__alpha=0.6000000000000001;, score=0.045 total time=   0.1s\n",
      "[CV 1/5] END ...model__alpha=0.7000000000000001;, score=0.036 total time=   0.1s\n",
      "[CV 2/5] END ...model__alpha=0.7000000000000001;, score=0.036 total time=   0.1s\n",
      "[CV 3/5] END ...model__alpha=0.7000000000000001;, score=0.037 total time=   0.1s\n",
      "[CV 4/5] END ...model__alpha=0.7000000000000001;, score=0.036 total time=   0.1s\n",
      "[CV 5/5] END ...model__alpha=0.7000000000000001;, score=0.037 total time=   0.1s\n",
      "[CV 1/5] END ..................model__alpha=0.8;, score=0.031 total time=   0.1s\n",
      "[CV 2/5] END ..................model__alpha=0.8;, score=0.031 total time=   0.1s\n",
      "[CV 3/5] END ..................model__alpha=0.8;, score=0.032 total time=   0.1s\n",
      "[CV 4/5] END ..................model__alpha=0.8;, score=0.032 total time=   0.1s\n",
      "[CV 5/5] END ..................model__alpha=0.8;, score=0.032 total time=   0.1s\n",
      "[CV 1/5] END ..................model__alpha=0.9;, score=0.026 total time=   0.1s\n",
      "[CV 2/5] END ..................model__alpha=0.9;, score=0.026 total time=   0.1s\n",
      "[CV 3/5] END ..................model__alpha=0.9;, score=0.027 total time=   0.1s\n",
      "[CV 4/5] END ..................model__alpha=0.9;, score=0.027 total time=   0.1s\n",
      "[CV 5/5] END ..................model__alpha=0.9;, score=0.027 total time=   0.1s\n",
      "[CV 1/5] END ..................model__alpha=1.0;, score=0.021 total time=   0.1s\n",
      "[CV 2/5] END ..................model__alpha=1.0;, score=0.021 total time=   0.1s\n",
      "[CV 3/5] END ..................model__alpha=1.0;, score=0.021 total time=   0.1s\n",
      "[CV 4/5] END ..................model__alpha=1.0;, score=0.021 total time=   0.1s\n",
      "[CV 5/5] END ..................model__alpha=1.0;, score=0.021 total time=   0.1s\n",
      "[CV 1/5] END ..................model__alpha=1.1;, score=0.014 total time=   0.1s\n",
      "[CV 2/5] END ..................model__alpha=1.1;, score=0.015 total time=   0.1s\n",
      "[CV 3/5] END ..................model__alpha=1.1;, score=0.015 total time=   0.1s\n",
      "[CV 4/5] END ..................model__alpha=1.1;, score=0.015 total time=   0.1s\n",
      "[CV 5/5] END ..................model__alpha=1.1;, score=0.015 total time=   0.1s\n",
      "[CV 1/5] END ...model__alpha=1.2000000000000002;, score=0.008 total time=   0.1s\n",
      "[CV 2/5] END ...model__alpha=1.2000000000000002;, score=0.008 total time=   0.1s\n",
      "[CV 3/5] END ...model__alpha=1.2000000000000002;, score=0.008 total time=   0.1s\n",
      "[CV 4/5] END ...model__alpha=1.2000000000000002;, score=0.008 total time=   0.1s\n",
      "[CV 5/5] END ...model__alpha=1.2000000000000002;, score=0.007 total time=   0.1s\n",
      "[CV 1/5] END ..................model__alpha=1.3;, score=0.000 total time=   0.1s\n",
      "[CV 2/5] END ..................model__alpha=1.3;, score=0.001 total time=   0.1s\n",
      "[CV 3/5] END .................model__alpha=1.3;, score=-0.000 total time=   0.1s\n",
      "[CV 4/5] END ..................model__alpha=1.3;, score=0.000 total time=   0.1s\n",
      "[CV 5/5] END .................model__alpha=1.3;, score=-0.000 total time=   0.1s\n",
      "[CV 1/5] END ..model__alpha=1.4000000000000001;, score=-0.000 total time=   0.1s\n",
      "[CV 2/5] END ..model__alpha=1.4000000000000001;, score=-0.000 total time=   0.1s\n",
      "[CV 3/5] END ..model__alpha=1.4000000000000001;, score=-0.000 total time=   0.1s\n",
      "[CV 4/5] END ..model__alpha=1.4000000000000001;, score=-0.000 total time=   0.1s\n",
      "[CV 5/5] END ..model__alpha=1.4000000000000001;, score=-0.000 total time=   0.1s\n",
      "[CV 1/5] END .................model__alpha=1.5;, score=-0.000 total time=   0.1s\n",
      "[CV 2/5] END .................model__alpha=1.5;, score=-0.000 total time=   0.1s\n",
      "[CV 3/5] END .................model__alpha=1.5;, score=-0.000 total time=   0.1s\n",
      "[CV 4/5] END .................model__alpha=1.5;, score=-0.000 total time=   0.1s\n",
      "[CV 5/5] END .................model__alpha=1.5;, score=-0.000 total time=   0.1s\n",
      "[CV 1/5] END .................model__alpha=1.6;, score=-0.000 total time=   0.1s\n",
      "[CV 2/5] END .................model__alpha=1.6;, score=-0.000 total time=   0.1s\n",
      "[CV 3/5] END .................model__alpha=1.6;, score=-0.000 total time=   0.1s\n",
      "[CV 4/5] END .................model__alpha=1.6;, score=-0.000 total time=   0.1s\n",
      "[CV 5/5] END .................model__alpha=1.6;, score=-0.000 total time=   0.1s\n",
      "[CV 1/5] END ..model__alpha=1.7000000000000002;, score=-0.000 total time=   0.1s\n",
      "[CV 2/5] END ..model__alpha=1.7000000000000002;, score=-0.000 total time=   0.1s\n",
      "[CV 3/5] END ..model__alpha=1.7000000000000002;, score=-0.000 total time=   0.1s\n",
      "[CV 4/5] END ..model__alpha=1.7000000000000002;, score=-0.000 total time=   0.1s\n",
      "[CV 5/5] END ..model__alpha=1.7000000000000002;, score=-0.000 total time=   0.1s\n",
      "[CV 1/5] END .................model__alpha=1.8;, score=-0.000 total time=   0.1s\n",
      "[CV 2/5] END .................model__alpha=1.8;, score=-0.000 total time=   0.1s\n",
      "[CV 3/5] END .................model__alpha=1.8;, score=-0.000 total time=   0.1s\n",
      "[CV 4/5] END .................model__alpha=1.8;, score=-0.000 total time=   0.1s\n",
      "[CV 5/5] END .................model__alpha=1.8;, score=-0.000 total time=   0.1s\n",
      "[CV 1/5] END ..model__alpha=1.9000000000000001;, score=-0.000 total time=   0.1s\n",
      "[CV 2/5] END ..model__alpha=1.9000000000000001;, score=-0.000 total time=   0.1s\n",
      "[CV 3/5] END ..model__alpha=1.9000000000000001;, score=-0.000 total time=   0.1s\n",
      "[CV 4/5] END ..model__alpha=1.9000000000000001;, score=-0.000 total time=   0.1s\n",
      "[CV 5/5] END ..model__alpha=1.9000000000000001;, score=-0.000 total time=   0.1s\n",
      "[CV 1/5] END .................model__alpha=2.0;, score=-0.000 total time=   0.1s\n",
      "[CV 2/5] END .................model__alpha=2.0;, score=-0.000 total time=   0.1s\n",
      "[CV 3/5] END .................model__alpha=2.0;, score=-0.000 total time=   0.1s\n"
     ]
    },
    {
     "name": "stdout",
     "output_type": "stream",
     "text": [
      "[CV 4/5] END .................model__alpha=2.0;, score=-0.000 total time=   0.1s\n",
      "[CV 5/5] END .................model__alpha=2.0;, score=-0.000 total time=   0.1s\n",
      "[CV 1/5] END .................model__alpha=2.1;, score=-0.000 total time=   0.1s\n",
      "[CV 2/5] END .................model__alpha=2.1;, score=-0.000 total time=   0.1s\n",
      "[CV 3/5] END .................model__alpha=2.1;, score=-0.000 total time=   0.1s\n",
      "[CV 4/5] END .................model__alpha=2.1;, score=-0.000 total time=   0.1s\n",
      "[CV 5/5] END .................model__alpha=2.1;, score=-0.000 total time=   0.1s\n",
      "[CV 1/5] END .................model__alpha=2.2;, score=-0.000 total time=   0.1s\n",
      "[CV 2/5] END .................model__alpha=2.2;, score=-0.000 total time=   0.1s\n",
      "[CV 3/5] END .................model__alpha=2.2;, score=-0.000 total time=   0.1s\n",
      "[CV 4/5] END .................model__alpha=2.2;, score=-0.000 total time=   0.1s\n",
      "[CV 5/5] END .................model__alpha=2.2;, score=-0.000 total time=   0.1s\n",
      "[CV 1/5] END ..model__alpha=2.3000000000000003;, score=-0.000 total time=   0.1s\n",
      "[CV 2/5] END ..model__alpha=2.3000000000000003;, score=-0.000 total time=   0.1s\n",
      "[CV 3/5] END ..model__alpha=2.3000000000000003;, score=-0.000 total time=   0.1s\n",
      "[CV 4/5] END ..model__alpha=2.3000000000000003;, score=-0.000 total time=   0.1s\n",
      "[CV 5/5] END ..model__alpha=2.3000000000000003;, score=-0.000 total time=   0.1s\n",
      "[CV 1/5] END ..model__alpha=2.4000000000000004;, score=-0.000 total time=   0.1s\n",
      "[CV 2/5] END ..model__alpha=2.4000000000000004;, score=-0.000 total time=   0.1s\n",
      "[CV 3/5] END ..model__alpha=2.4000000000000004;, score=-0.000 total time=   0.1s\n",
      "[CV 4/5] END ..model__alpha=2.4000000000000004;, score=-0.000 total time=   0.1s\n",
      "[CV 5/5] END ..model__alpha=2.4000000000000004;, score=-0.000 total time=   0.1s\n",
      "[CV 1/5] END .................model__alpha=2.5;, score=-0.000 total time=   0.1s\n",
      "[CV 2/5] END .................model__alpha=2.5;, score=-0.000 total time=   0.1s\n",
      "[CV 3/5] END .................model__alpha=2.5;, score=-0.000 total time=   0.1s\n",
      "[CV 4/5] END .................model__alpha=2.5;, score=-0.000 total time=   0.1s\n",
      "[CV 5/5] END .................model__alpha=2.5;, score=-0.000 total time=   0.1s\n",
      "[CV 1/5] END .................model__alpha=2.6;, score=-0.000 total time=   0.1s\n",
      "[CV 2/5] END .................model__alpha=2.6;, score=-0.000 total time=   0.1s\n",
      "[CV 3/5] END .................model__alpha=2.6;, score=-0.000 total time=   0.1s\n",
      "[CV 4/5] END .................model__alpha=2.6;, score=-0.000 total time=   0.1s\n",
      "[CV 5/5] END .................model__alpha=2.6;, score=-0.000 total time=   0.1s\n",
      "[CV 1/5] END .................model__alpha=2.7;, score=-0.000 total time=   0.1s\n",
      "[CV 2/5] END .................model__alpha=2.7;, score=-0.000 total time=   0.1s\n",
      "[CV 3/5] END .................model__alpha=2.7;, score=-0.000 total time=   0.1s\n",
      "[CV 4/5] END .................model__alpha=2.7;, score=-0.000 total time=   0.1s\n",
      "[CV 5/5] END .................model__alpha=2.7;, score=-0.000 total time=   0.1s\n",
      "[CV 1/5] END ..model__alpha=2.8000000000000003;, score=-0.000 total time=   0.1s\n",
      "[CV 2/5] END ..model__alpha=2.8000000000000003;, score=-0.000 total time=   0.2s\n",
      "[CV 3/5] END ..model__alpha=2.8000000000000003;, score=-0.000 total time=   0.1s\n",
      "[CV 4/5] END ..model__alpha=2.8000000000000003;, score=-0.000 total time=   0.1s\n",
      "[CV 5/5] END ..model__alpha=2.8000000000000003;, score=-0.000 total time=   0.1s\n",
      "[CV 1/5] END ..model__alpha=2.9000000000000004;, score=-0.000 total time=   0.1s\n",
      "[CV 2/5] END ..model__alpha=2.9000000000000004;, score=-0.000 total time=   0.1s\n",
      "[CV 3/5] END ..model__alpha=2.9000000000000004;, score=-0.000 total time=   0.1s\n",
      "[CV 4/5] END ..model__alpha=2.9000000000000004;, score=-0.000 total time=   0.2s\n",
      "[CV 5/5] END ..model__alpha=2.9000000000000004;, score=-0.000 total time=   0.1s\n",
      "[CV 1/5] END .................model__alpha=3.0;, score=-0.000 total time=   0.4s\n",
      "[CV 2/5] END .................model__alpha=3.0;, score=-0.000 total time=   0.1s\n",
      "[CV 3/5] END .................model__alpha=3.0;, score=-0.000 total time=   0.1s\n",
      "[CV 4/5] END .................model__alpha=3.0;, score=-0.000 total time=   0.1s\n",
      "[CV 5/5] END .................model__alpha=3.0;, score=-0.000 total time=   0.1s\n",
      "[CV 1/5] END .................model__alpha=3.1;, score=-0.000 total time=   0.1s\n",
      "[CV 2/5] END .................model__alpha=3.1;, score=-0.000 total time=   0.1s\n",
      "[CV 3/5] END .................model__alpha=3.1;, score=-0.000 total time=   0.1s\n",
      "[CV 4/5] END .................model__alpha=3.1;, score=-0.000 total time=   0.1s\n",
      "[CV 5/5] END .................model__alpha=3.1;, score=-0.000 total time=   0.1s\n",
      "[CV 1/5] END .................model__alpha=3.2;, score=-0.000 total time=   0.1s\n",
      "[CV 2/5] END .................model__alpha=3.2;, score=-0.000 total time=   0.1s\n",
      "[CV 3/5] END .................model__alpha=3.2;, score=-0.000 total time=   0.1s\n",
      "[CV 4/5] END .................model__alpha=3.2;, score=-0.000 total time=   0.1s\n",
      "[CV 5/5] END .................model__alpha=3.2;, score=-0.000 total time=   0.1s\n",
      "[CV 1/5] END ..model__alpha=3.3000000000000003;, score=-0.000 total time=   0.1s\n",
      "[CV 2/5] END ..model__alpha=3.3000000000000003;, score=-0.000 total time=   0.1s\n",
      "[CV 3/5] END ..model__alpha=3.3000000000000003;, score=-0.000 total time=   0.1s\n",
      "[CV 4/5] END ..model__alpha=3.3000000000000003;, score=-0.000 total time=   0.1s\n",
      "[CV 5/5] END ..model__alpha=3.3000000000000003;, score=-0.000 total time=   0.1s\n",
      "[CV 1/5] END ..model__alpha=3.4000000000000004;, score=-0.000 total time=   0.1s\n",
      "[CV 2/5] END ..model__alpha=3.4000000000000004;, score=-0.000 total time=   0.1s\n",
      "[CV 3/5] END ..model__alpha=3.4000000000000004;, score=-0.000 total time=   0.1s\n",
      "[CV 4/5] END ..model__alpha=3.4000000000000004;, score=-0.000 total time=   0.1s\n",
      "[CV 5/5] END ..model__alpha=3.4000000000000004;, score=-0.000 total time=   0.1s\n",
      "[CV 1/5] END .................model__alpha=3.5;, score=-0.000 total time=   0.1s\n",
      "[CV 2/5] END .................model__alpha=3.5;, score=-0.000 total time=   0.1s\n",
      "[CV 3/5] END .................model__alpha=3.5;, score=-0.000 total time=   0.1s\n",
      "[CV 4/5] END .................model__alpha=3.5;, score=-0.000 total time=   0.1s\n",
      "[CV 5/5] END .................model__alpha=3.5;, score=-0.000 total time=   0.1s\n",
      "[CV 1/5] END .................model__alpha=3.6;, score=-0.000 total time=   0.1s\n",
      "[CV 2/5] END .................model__alpha=3.6;, score=-0.000 total time=   0.1s\n",
      "[CV 3/5] END .................model__alpha=3.6;, score=-0.000 total time=   0.1s\n",
      "[CV 4/5] END .................model__alpha=3.6;, score=-0.000 total time=   0.1s\n",
      "[CV 5/5] END .................model__alpha=3.6;, score=-0.000 total time=   0.1s\n",
      "[CV 1/5] END .................model__alpha=3.7;, score=-0.000 total time=   0.1s\n",
      "[CV 2/5] END .................model__alpha=3.7;, score=-0.000 total time=   0.1s\n",
      "[CV 3/5] END .................model__alpha=3.7;, score=-0.000 total time=   0.1s\n",
      "[CV 4/5] END .................model__alpha=3.7;, score=-0.000 total time=   0.1s\n",
      "[CV 5/5] END .................model__alpha=3.7;, score=-0.000 total time=   0.1s\n",
      "[CV 1/5] END ..model__alpha=3.8000000000000003;, score=-0.000 total time=   0.1s\n",
      "[CV 2/5] END ..model__alpha=3.8000000000000003;, score=-0.000 total time=   0.1s\n",
      "[CV 3/5] END ..model__alpha=3.8000000000000003;, score=-0.000 total time=   0.1s\n",
      "[CV 4/5] END ..model__alpha=3.8000000000000003;, score=-0.000 total time=   0.1s\n",
      "[CV 5/5] END ..model__alpha=3.8000000000000003;, score=-0.000 total time=   0.1s\n",
      "[CV 1/5] END ..model__alpha=3.9000000000000004;, score=-0.000 total time=   0.1s\n",
      "[CV 2/5] END ..model__alpha=3.9000000000000004;, score=-0.000 total time=   0.1s\n",
      "[CV 3/5] END ..model__alpha=3.9000000000000004;, score=-0.000 total time=   0.1s\n",
      "[CV 4/5] END ..model__alpha=3.9000000000000004;, score=-0.000 total time=   0.1s\n",
      "[CV 5/5] END ..model__alpha=3.9000000000000004;, score=-0.000 total time=   0.1s\n",
      "[CV 1/5] END .................model__alpha=4.0;, score=-0.000 total time=   0.1s\n",
      "[CV 2/5] END .................model__alpha=4.0;, score=-0.000 total time=   0.1s\n",
      "[CV 3/5] END .................model__alpha=4.0;, score=-0.000 total time=   0.1s\n",
      "[CV 4/5] END .................model__alpha=4.0;, score=-0.000 total time=   0.1s\n",
      "[CV 5/5] END .................model__alpha=4.0;, score=-0.000 total time=   0.1s\n",
      "[CV 1/5] END ..model__alpha=4.1000000000000005;, score=-0.000 total time=   0.1s\n"
     ]
    },
    {
     "name": "stdout",
     "output_type": "stream",
     "text": [
      "[CV 2/5] END ..model__alpha=4.1000000000000005;, score=-0.000 total time=   0.1s\n",
      "[CV 3/5] END ..model__alpha=4.1000000000000005;, score=-0.000 total time=   0.1s\n",
      "[CV 4/5] END ..model__alpha=4.1000000000000005;, score=-0.000 total time=   0.1s\n",
      "[CV 5/5] END ..model__alpha=4.1000000000000005;, score=-0.000 total time=   0.1s\n",
      "[CV 1/5] END .................model__alpha=4.2;, score=-0.000 total time=   0.1s\n",
      "[CV 2/5] END .................model__alpha=4.2;, score=-0.000 total time=   0.1s\n",
      "[CV 3/5] END .................model__alpha=4.2;, score=-0.000 total time=   0.1s\n",
      "[CV 4/5] END .................model__alpha=4.2;, score=-0.000 total time=   0.1s\n",
      "[CV 5/5] END .................model__alpha=4.2;, score=-0.000 total time=   0.1s\n",
      "[CV 1/5] END .................model__alpha=4.3;, score=-0.000 total time=   0.1s\n",
      "[CV 2/5] END .................model__alpha=4.3;, score=-0.000 total time=   0.1s\n",
      "[CV 3/5] END .................model__alpha=4.3;, score=-0.000 total time=   0.1s\n",
      "[CV 4/5] END .................model__alpha=4.3;, score=-0.000 total time=   0.1s\n",
      "[CV 5/5] END .................model__alpha=4.3;, score=-0.000 total time=   0.1s\n",
      "[CV 1/5] END .................model__alpha=4.4;, score=-0.000 total time=   0.1s\n",
      "[CV 2/5] END .................model__alpha=4.4;, score=-0.000 total time=   0.1s\n",
      "[CV 3/5] END .................model__alpha=4.4;, score=-0.000 total time=   0.1s\n",
      "[CV 4/5] END .................model__alpha=4.4;, score=-0.000 total time=   0.1s\n",
      "[CV 5/5] END .................model__alpha=4.4;, score=-0.000 total time=   0.1s\n",
      "[CV 1/5] END .................model__alpha=4.5;, score=-0.000 total time=   0.1s\n",
      "[CV 2/5] END .................model__alpha=4.5;, score=-0.000 total time=   0.1s\n",
      "[CV 3/5] END .................model__alpha=4.5;, score=-0.000 total time=   0.1s\n",
      "[CV 4/5] END .................model__alpha=4.5;, score=-0.000 total time=   0.1s\n",
      "[CV 5/5] END .................model__alpha=4.5;, score=-0.000 total time=   0.1s\n",
      "[CV 1/5] END ..model__alpha=4.6000000000000005;, score=-0.000 total time=   0.1s\n",
      "[CV 2/5] END ..model__alpha=4.6000000000000005;, score=-0.000 total time=   0.1s\n",
      "[CV 3/5] END ..model__alpha=4.6000000000000005;, score=-0.000 total time=   0.1s\n",
      "[CV 4/5] END ..model__alpha=4.6000000000000005;, score=-0.000 total time=   0.1s\n",
      "[CV 5/5] END ..model__alpha=4.6000000000000005;, score=-0.000 total time=   0.1s\n",
      "[CV 1/5] END .................model__alpha=4.7;, score=-0.000 total time=   0.1s\n",
      "[CV 2/5] END .................model__alpha=4.7;, score=-0.000 total time=   0.1s\n",
      "[CV 3/5] END .................model__alpha=4.7;, score=-0.000 total time=   0.1s\n",
      "[CV 4/5] END .................model__alpha=4.7;, score=-0.000 total time=   0.1s\n",
      "[CV 5/5] END .................model__alpha=4.7;, score=-0.000 total time=   0.1s\n",
      "[CV 1/5] END ...model__alpha=4.800000000000001;, score=-0.000 total time=   0.1s\n",
      "[CV 2/5] END ...model__alpha=4.800000000000001;, score=-0.000 total time=   0.1s\n",
      "[CV 3/5] END ...model__alpha=4.800000000000001;, score=-0.000 total time=   0.1s\n",
      "[CV 4/5] END ...model__alpha=4.800000000000001;, score=-0.000 total time=   0.1s\n",
      "[CV 5/5] END ...model__alpha=4.800000000000001;, score=-0.000 total time=   0.1s\n",
      "[CV 1/5] END .................model__alpha=4.9;, score=-0.000 total time=   0.1s\n",
      "[CV 2/5] END .................model__alpha=4.9;, score=-0.000 total time=   0.1s\n",
      "[CV 3/5] END .................model__alpha=4.9;, score=-0.000 total time=   0.1s\n",
      "[CV 4/5] END .................model__alpha=4.9;, score=-0.000 total time=   0.1s\n",
      "[CV 5/5] END .................model__alpha=4.9;, score=-0.000 total time=   0.1s\n",
      "[CV 1/5] END .................model__alpha=5.0;, score=-0.000 total time=   0.1s\n",
      "[CV 2/5] END .................model__alpha=5.0;, score=-0.000 total time=   0.1s\n",
      "[CV 3/5] END .................model__alpha=5.0;, score=-0.000 total time=   0.1s\n",
      "[CV 4/5] END .................model__alpha=5.0;, score=-0.000 total time=   0.1s\n",
      "[CV 5/5] END .................model__alpha=5.0;, score=-0.000 total time=   0.1s\n",
      "[CV 1/5] END ..model__alpha=5.1000000000000005;, score=-0.000 total time=   0.1s\n",
      "[CV 2/5] END ..model__alpha=5.1000000000000005;, score=-0.000 total time=   0.1s\n",
      "[CV 3/5] END ..model__alpha=5.1000000000000005;, score=-0.000 total time=   0.1s\n",
      "[CV 4/5] END ..model__alpha=5.1000000000000005;, score=-0.000 total time=   0.1s\n",
      "[CV 5/5] END ..model__alpha=5.1000000000000005;, score=-0.000 total time=   0.1s\n",
      "[CV 1/5] END .................model__alpha=5.2;, score=-0.000 total time=   0.1s\n",
      "[CV 2/5] END .................model__alpha=5.2;, score=-0.000 total time=   0.1s\n",
      "[CV 3/5] END .................model__alpha=5.2;, score=-0.000 total time=   0.1s\n",
      "[CV 4/5] END .................model__alpha=5.2;, score=-0.000 total time=   0.1s\n",
      "[CV 5/5] END .................model__alpha=5.2;, score=-0.000 total time=   0.1s\n",
      "[CV 1/5] END ...model__alpha=5.300000000000001;, score=-0.000 total time=   0.1s\n",
      "[CV 2/5] END ...model__alpha=5.300000000000001;, score=-0.000 total time=   0.1s\n",
      "[CV 3/5] END ...model__alpha=5.300000000000001;, score=-0.000 total time=   0.1s\n",
      "[CV 4/5] END ...model__alpha=5.300000000000001;, score=-0.000 total time=   0.1s\n",
      "[CV 5/5] END ...model__alpha=5.300000000000001;, score=-0.000 total time=   0.1s\n",
      "[CV 1/5] END .................model__alpha=5.4;, score=-0.000 total time=   0.1s\n",
      "[CV 2/5] END .................model__alpha=5.4;, score=-0.000 total time=   0.1s\n",
      "[CV 3/5] END .................model__alpha=5.4;, score=-0.000 total time=   0.1s\n",
      "[CV 4/5] END .................model__alpha=5.4;, score=-0.000 total time=   0.1s\n",
      "[CV 5/5] END .................model__alpha=5.4;, score=-0.000 total time=   0.1s\n",
      "[CV 1/5] END .................model__alpha=5.5;, score=-0.000 total time=   0.1s\n",
      "[CV 2/5] END .................model__alpha=5.5;, score=-0.000 total time=   0.1s\n",
      "[CV 3/5] END .................model__alpha=5.5;, score=-0.000 total time=   0.1s\n",
      "[CV 4/5] END .................model__alpha=5.5;, score=-0.000 total time=   0.1s\n",
      "[CV 5/5] END .................model__alpha=5.5;, score=-0.000 total time=   0.1s\n",
      "[CV 1/5] END ..model__alpha=5.6000000000000005;, score=-0.000 total time=   0.1s\n",
      "[CV 2/5] END ..model__alpha=5.6000000000000005;, score=-0.000 total time=   0.1s\n",
      "[CV 3/5] END ..model__alpha=5.6000000000000005;, score=-0.000 total time=   0.1s\n",
      "[CV 4/5] END ..model__alpha=5.6000000000000005;, score=-0.000 total time=   0.1s\n",
      "[CV 5/5] END ..model__alpha=5.6000000000000005;, score=-0.000 total time=   0.1s\n",
      "[CV 1/5] END .................model__alpha=5.7;, score=-0.000 total time=   0.1s\n",
      "[CV 2/5] END .................model__alpha=5.7;, score=-0.000 total time=   0.1s\n",
      "[CV 3/5] END .................model__alpha=5.7;, score=-0.000 total time=   0.1s\n",
      "[CV 4/5] END .................model__alpha=5.7;, score=-0.000 total time=   0.1s\n",
      "[CV 5/5] END .................model__alpha=5.7;, score=-0.000 total time=   0.1s\n",
      "[CV 1/5] END ...model__alpha=5.800000000000001;, score=-0.000 total time=   0.1s\n",
      "[CV 2/5] END ...model__alpha=5.800000000000001;, score=-0.000 total time=   0.1s\n",
      "[CV 3/5] END ...model__alpha=5.800000000000001;, score=-0.000 total time=   0.1s\n",
      "[CV 4/5] END ...model__alpha=5.800000000000001;, score=-0.000 total time=   0.1s\n",
      "[CV 5/5] END ...model__alpha=5.800000000000001;, score=-0.000 total time=   0.1s\n",
      "[CV 1/5] END .................model__alpha=5.9;, score=-0.000 total time=   0.1s\n",
      "[CV 2/5] END .................model__alpha=5.9;, score=-0.000 total time=   0.1s\n",
      "[CV 3/5] END .................model__alpha=5.9;, score=-0.000 total time=   0.1s\n",
      "[CV 4/5] END .................model__alpha=5.9;, score=-0.000 total time=   0.1s\n",
      "[CV 5/5] END .................model__alpha=5.9;, score=-0.000 total time=   0.1s\n",
      "[CV 1/5] END .................model__alpha=6.0;, score=-0.000 total time=   0.1s\n",
      "[CV 2/5] END .................model__alpha=6.0;, score=-0.000 total time=   0.1s\n",
      "[CV 3/5] END .................model__alpha=6.0;, score=-0.000 total time=   0.1s\n",
      "[CV 4/5] END .................model__alpha=6.0;, score=-0.000 total time=   0.1s\n",
      "[CV 5/5] END .................model__alpha=6.0;, score=-0.000 total time=   0.1s\n",
      "[CV 1/5] END ..model__alpha=6.1000000000000005;, score=-0.000 total time=   0.1s\n",
      "[CV 2/5] END ..model__alpha=6.1000000000000005;, score=-0.000 total time=   0.1s\n",
      "[CV 3/5] END ..model__alpha=6.1000000000000005;, score=-0.000 total time=   0.1s\n",
      "[CV 4/5] END ..model__alpha=6.1000000000000005;, score=-0.000 total time=   0.1s\n"
     ]
    },
    {
     "name": "stdout",
     "output_type": "stream",
     "text": [
      "[CV 5/5] END ..model__alpha=6.1000000000000005;, score=-0.000 total time=   0.1s\n",
      "[CV 1/5] END .................model__alpha=6.2;, score=-0.000 total time=   0.1s\n",
      "[CV 2/5] END .................model__alpha=6.2;, score=-0.000 total time=   0.1s\n",
      "[CV 3/5] END .................model__alpha=6.2;, score=-0.000 total time=   0.1s\n",
      "[CV 4/5] END .................model__alpha=6.2;, score=-0.000 total time=   0.1s\n",
      "[CV 5/5] END .................model__alpha=6.2;, score=-0.000 total time=   0.1s\n",
      "[CV 1/5] END ...model__alpha=6.300000000000001;, score=-0.000 total time=   0.1s\n",
      "[CV 2/5] END ...model__alpha=6.300000000000001;, score=-0.000 total time=   0.1s\n",
      "[CV 3/5] END ...model__alpha=6.300000000000001;, score=-0.000 total time=   0.1s\n",
      "[CV 4/5] END ...model__alpha=6.300000000000001;, score=-0.000 total time=   0.1s\n",
      "[CV 5/5] END ...model__alpha=6.300000000000001;, score=-0.000 total time=   0.1s\n",
      "[CV 1/5] END .................model__alpha=6.4;, score=-0.000 total time=   0.1s\n",
      "[CV 2/5] END .................model__alpha=6.4;, score=-0.000 total time=   0.1s\n",
      "[CV 3/5] END .................model__alpha=6.4;, score=-0.000 total time=   0.1s\n",
      "[CV 4/5] END .................model__alpha=6.4;, score=-0.000 total time=   0.1s\n",
      "[CV 5/5] END .................model__alpha=6.4;, score=-0.000 total time=   0.1s\n",
      "[CV 1/5] END .................model__alpha=6.5;, score=-0.000 total time=   0.1s\n",
      "[CV 2/5] END .................model__alpha=6.5;, score=-0.000 total time=   0.1s\n",
      "[CV 3/5] END .................model__alpha=6.5;, score=-0.000 total time=   0.1s\n",
      "[CV 4/5] END .................model__alpha=6.5;, score=-0.000 total time=   0.1s\n",
      "[CV 5/5] END .................model__alpha=6.5;, score=-0.000 total time=   0.1s\n",
      "[CV 1/5] END ..model__alpha=6.6000000000000005;, score=-0.000 total time=   0.1s\n",
      "[CV 2/5] END ..model__alpha=6.6000000000000005;, score=-0.000 total time=   0.1s\n",
      "[CV 3/5] END ..model__alpha=6.6000000000000005;, score=-0.000 total time=   0.1s\n",
      "[CV 4/5] END ..model__alpha=6.6000000000000005;, score=-0.000 total time=   0.1s\n",
      "[CV 5/5] END ..model__alpha=6.6000000000000005;, score=-0.000 total time=   0.1s\n",
      "[CV 1/5] END .................model__alpha=6.7;, score=-0.000 total time=   0.1s\n",
      "[CV 2/5] END .................model__alpha=6.7;, score=-0.000 total time=   0.1s\n",
      "[CV 3/5] END .................model__alpha=6.7;, score=-0.000 total time=   0.1s\n",
      "[CV 4/5] END .................model__alpha=6.7;, score=-0.000 total time=   0.1s\n",
      "[CV 5/5] END .................model__alpha=6.7;, score=-0.000 total time=   0.1s\n",
      "[CV 1/5] END ...model__alpha=6.800000000000001;, score=-0.000 total time=   0.1s\n",
      "[CV 2/5] END ...model__alpha=6.800000000000001;, score=-0.000 total time=   0.1s\n",
      "[CV 3/5] END ...model__alpha=6.800000000000001;, score=-0.000 total time=   0.1s\n",
      "[CV 4/5] END ...model__alpha=6.800000000000001;, score=-0.000 total time=   0.1s\n",
      "[CV 5/5] END ...model__alpha=6.800000000000001;, score=-0.000 total time=   0.1s\n",
      "[CV 1/5] END .................model__alpha=6.9;, score=-0.000 total time=   0.1s\n",
      "[CV 2/5] END .................model__alpha=6.9;, score=-0.000 total time=   0.1s\n",
      "[CV 3/5] END .................model__alpha=6.9;, score=-0.000 total time=   0.1s\n",
      "[CV 4/5] END .................model__alpha=6.9;, score=-0.000 total time=   0.1s\n",
      "[CV 5/5] END .................model__alpha=6.9;, score=-0.000 total time=   0.1s\n",
      "[CV 1/5] END .................model__alpha=7.0;, score=-0.000 total time=   0.1s\n",
      "[CV 2/5] END .................model__alpha=7.0;, score=-0.000 total time=   0.1s\n",
      "[CV 3/5] END .................model__alpha=7.0;, score=-0.000 total time=   0.1s\n",
      "[CV 4/5] END .................model__alpha=7.0;, score=-0.000 total time=   0.1s\n",
      "[CV 5/5] END .................model__alpha=7.0;, score=-0.000 total time=   0.1s\n",
      "[CV 1/5] END ..model__alpha=7.1000000000000005;, score=-0.000 total time=   0.1s\n",
      "[CV 2/5] END ..model__alpha=7.1000000000000005;, score=-0.000 total time=   0.1s\n",
      "[CV 3/5] END ..model__alpha=7.1000000000000005;, score=-0.000 total time=   0.1s\n",
      "[CV 4/5] END ..model__alpha=7.1000000000000005;, score=-0.000 total time=   0.1s\n",
      "[CV 5/5] END ..model__alpha=7.1000000000000005;, score=-0.000 total time=   0.1s\n",
      "[CV 1/5] END .................model__alpha=7.2;, score=-0.000 total time=   0.1s\n",
      "[CV 2/5] END .................model__alpha=7.2;, score=-0.000 total time=   0.1s\n",
      "[CV 3/5] END .................model__alpha=7.2;, score=-0.000 total time=   0.1s\n",
      "[CV 4/5] END .................model__alpha=7.2;, score=-0.000 total time=   0.1s\n",
      "[CV 5/5] END .................model__alpha=7.2;, score=-0.000 total time=   0.1s\n",
      "[CV 1/5] END ...model__alpha=7.300000000000001;, score=-0.000 total time=   0.1s\n",
      "[CV 2/5] END ...model__alpha=7.300000000000001;, score=-0.000 total time=   0.1s\n",
      "[CV 3/5] END ...model__alpha=7.300000000000001;, score=-0.000 total time=   0.1s\n",
      "[CV 4/5] END ...model__alpha=7.300000000000001;, score=-0.000 total time=   0.1s\n",
      "[CV 5/5] END ...model__alpha=7.300000000000001;, score=-0.000 total time=   0.1s\n",
      "[CV 1/5] END .................model__alpha=7.4;, score=-0.000 total time=   0.1s\n",
      "[CV 2/5] END .................model__alpha=7.4;, score=-0.000 total time=   0.1s\n",
      "[CV 3/5] END .................model__alpha=7.4;, score=-0.000 total time=   0.1s\n",
      "[CV 4/5] END .................model__alpha=7.4;, score=-0.000 total time=   0.1s\n",
      "[CV 5/5] END .................model__alpha=7.4;, score=-0.000 total time=   0.1s\n",
      "[CV 1/5] END .................model__alpha=7.5;, score=-0.000 total time=   0.1s\n",
      "[CV 2/5] END .................model__alpha=7.5;, score=-0.000 total time=   0.1s\n",
      "[CV 3/5] END .................model__alpha=7.5;, score=-0.000 total time=   0.1s\n",
      "[CV 4/5] END .................model__alpha=7.5;, score=-0.000 total time=   0.1s\n",
      "[CV 5/5] END .................model__alpha=7.5;, score=-0.000 total time=   0.1s\n",
      "[CV 1/5] END ..model__alpha=7.6000000000000005;, score=-0.000 total time=   0.1s\n",
      "[CV 2/5] END ..model__alpha=7.6000000000000005;, score=-0.000 total time=   0.1s\n",
      "[CV 3/5] END ..model__alpha=7.6000000000000005;, score=-0.000 total time=   0.1s\n",
      "[CV 4/5] END ..model__alpha=7.6000000000000005;, score=-0.000 total time=   0.1s\n",
      "[CV 5/5] END ..model__alpha=7.6000000000000005;, score=-0.000 total time=   0.1s\n",
      "[CV 1/5] END .................model__alpha=7.7;, score=-0.000 total time=   0.1s\n",
      "[CV 2/5] END .................model__alpha=7.7;, score=-0.000 total time=   0.1s\n",
      "[CV 3/5] END .................model__alpha=7.7;, score=-0.000 total time=   0.1s\n",
      "[CV 4/5] END .................model__alpha=7.7;, score=-0.000 total time=   0.1s\n",
      "[CV 5/5] END .................model__alpha=7.7;, score=-0.000 total time=   0.1s\n",
      "[CV 1/5] END ...model__alpha=7.800000000000001;, score=-0.000 total time=   0.1s\n",
      "[CV 2/5] END ...model__alpha=7.800000000000001;, score=-0.000 total time=   0.1s\n",
      "[CV 3/5] END ...model__alpha=7.800000000000001;, score=-0.000 total time=   0.1s\n",
      "[CV 4/5] END ...model__alpha=7.800000000000001;, score=-0.000 total time=   0.1s\n",
      "[CV 5/5] END ...model__alpha=7.800000000000001;, score=-0.000 total time=   0.1s\n",
      "[CV 1/5] END .................model__alpha=7.9;, score=-0.000 total time=   0.1s\n",
      "[CV 2/5] END .................model__alpha=7.9;, score=-0.000 total time=   0.1s\n",
      "[CV 3/5] END .................model__alpha=7.9;, score=-0.000 total time=   0.1s\n",
      "[CV 4/5] END .................model__alpha=7.9;, score=-0.000 total time=   0.1s\n",
      "[CV 5/5] END .................model__alpha=7.9;, score=-0.000 total time=   0.1s\n",
      "[CV 1/5] END .................model__alpha=8.0;, score=-0.000 total time=   0.1s\n",
      "[CV 2/5] END .................model__alpha=8.0;, score=-0.000 total time=   0.1s\n",
      "[CV 3/5] END .................model__alpha=8.0;, score=-0.000 total time=   0.1s\n",
      "[CV 4/5] END .................model__alpha=8.0;, score=-0.000 total time=   0.1s\n",
      "[CV 5/5] END .................model__alpha=8.0;, score=-0.000 total time=   0.1s\n",
      "[CV 1/5] END .................model__alpha=8.1;, score=-0.000 total time=   0.1s\n",
      "[CV 2/5] END .................model__alpha=8.1;, score=-0.000 total time=   0.1s\n",
      "[CV 3/5] END .................model__alpha=8.1;, score=-0.000 total time=   0.1s\n",
      "[CV 4/5] END .................model__alpha=8.1;, score=-0.000 total time=   0.1s\n",
      "[CV 5/5] END .................model__alpha=8.1;, score=-0.000 total time=   0.1s\n",
      "[CV 1/5] END ...model__alpha=8.200000000000001;, score=-0.000 total time=   0.1s\n"
     ]
    },
    {
     "name": "stdout",
     "output_type": "stream",
     "text": [
      "[CV 2/5] END ...model__alpha=8.200000000000001;, score=-0.000 total time=   0.1s\n",
      "[CV 3/5] END ...model__alpha=8.200000000000001;, score=-0.000 total time=   0.1s\n",
      "[CV 4/5] END ...model__alpha=8.200000000000001;, score=-0.000 total time=   0.1s\n",
      "[CV 5/5] END ...model__alpha=8.200000000000001;, score=-0.000 total time=   0.1s\n",
      "[CV 1/5] END .................model__alpha=8.3;, score=-0.000 total time=   0.1s\n",
      "[CV 2/5] END .................model__alpha=8.3;, score=-0.000 total time=   0.1s\n",
      "[CV 3/5] END .................model__alpha=8.3;, score=-0.000 total time=   0.1s\n",
      "[CV 4/5] END .................model__alpha=8.3;, score=-0.000 total time=   0.1s\n",
      "[CV 5/5] END .................model__alpha=8.3;, score=-0.000 total time=   0.1s\n",
      "[CV 1/5] END .................model__alpha=8.4;, score=-0.000 total time=   0.1s\n",
      "[CV 2/5] END .................model__alpha=8.4;, score=-0.000 total time=   0.1s\n",
      "[CV 3/5] END .................model__alpha=8.4;, score=-0.000 total time=   0.1s\n",
      "[CV 4/5] END .................model__alpha=8.4;, score=-0.000 total time=   0.1s\n",
      "[CV 5/5] END .................model__alpha=8.4;, score=-0.000 total time=   0.1s\n",
      "[CV 1/5] END .................model__alpha=8.5;, score=-0.000 total time=   0.1s\n",
      "[CV 2/5] END .................model__alpha=8.5;, score=-0.000 total time=   0.1s\n",
      "[CV 3/5] END .................model__alpha=8.5;, score=-0.000 total time=   0.1s\n",
      "[CV 4/5] END .................model__alpha=8.5;, score=-0.000 total time=   0.1s\n",
      "[CV 5/5] END .................model__alpha=8.5;, score=-0.000 total time=   0.1s\n",
      "[CV 1/5] END .................model__alpha=8.6;, score=-0.000 total time=   0.1s\n",
      "[CV 2/5] END .................model__alpha=8.6;, score=-0.000 total time=   0.1s\n",
      "[CV 3/5] END .................model__alpha=8.6;, score=-0.000 total time=   0.1s\n",
      "[CV 4/5] END .................model__alpha=8.6;, score=-0.000 total time=   0.1s\n",
      "[CV 5/5] END .................model__alpha=8.6;, score=-0.000 total time=   0.1s\n",
      "[CV 1/5] END ...model__alpha=8.700000000000001;, score=-0.000 total time=   0.1s\n",
      "[CV 2/5] END ...model__alpha=8.700000000000001;, score=-0.000 total time=   0.1s\n",
      "[CV 3/5] END ...model__alpha=8.700000000000001;, score=-0.000 total time=   0.1s\n",
      "[CV 4/5] END ...model__alpha=8.700000000000001;, score=-0.000 total time=   0.1s\n",
      "[CV 5/5] END ...model__alpha=8.700000000000001;, score=-0.000 total time=   0.1s\n",
      "[CV 1/5] END .................model__alpha=8.8;, score=-0.000 total time=   0.1s\n",
      "[CV 2/5] END .................model__alpha=8.8;, score=-0.000 total time=   0.1s\n",
      "[CV 3/5] END .................model__alpha=8.8;, score=-0.000 total time=   0.1s\n",
      "[CV 4/5] END .................model__alpha=8.8;, score=-0.000 total time=   0.1s\n",
      "[CV 5/5] END .................model__alpha=8.8;, score=-0.000 total time=   0.1s\n",
      "[CV 1/5] END .................model__alpha=8.9;, score=-0.000 total time=   0.1s\n",
      "[CV 2/5] END .................model__alpha=8.9;, score=-0.000 total time=   0.1s\n",
      "[CV 3/5] END .................model__alpha=8.9;, score=-0.000 total time=   0.1s\n",
      "[CV 4/5] END .................model__alpha=8.9;, score=-0.000 total time=   0.1s\n",
      "[CV 5/5] END .................model__alpha=8.9;, score=-0.000 total time=   0.1s\n",
      "[CV 1/5] END .................model__alpha=9.0;, score=-0.000 total time=   0.1s\n",
      "[CV 2/5] END .................model__alpha=9.0;, score=-0.000 total time=   0.1s\n",
      "[CV 3/5] END .................model__alpha=9.0;, score=-0.000 total time=   0.1s\n",
      "[CV 4/5] END .................model__alpha=9.0;, score=-0.000 total time=   0.1s\n",
      "[CV 5/5] END .................model__alpha=9.0;, score=-0.000 total time=   0.1s\n",
      "[CV 1/5] END .................model__alpha=9.1;, score=-0.000 total time=   0.1s\n",
      "[CV 2/5] END .................model__alpha=9.1;, score=-0.000 total time=   0.1s\n",
      "[CV 3/5] END .................model__alpha=9.1;, score=-0.000 total time=   0.1s\n",
      "[CV 4/5] END .................model__alpha=9.1;, score=-0.000 total time=   0.1s\n",
      "[CV 5/5] END .................model__alpha=9.1;, score=-0.000 total time=   0.1s\n",
      "[CV 1/5] END ...model__alpha=9.200000000000001;, score=-0.000 total time=   0.1s\n",
      "[CV 2/5] END ...model__alpha=9.200000000000001;, score=-0.000 total time=   0.1s\n",
      "[CV 3/5] END ...model__alpha=9.200000000000001;, score=-0.000 total time=   0.1s\n",
      "[CV 4/5] END ...model__alpha=9.200000000000001;, score=-0.000 total time=   0.1s\n",
      "[CV 5/5] END ...model__alpha=9.200000000000001;, score=-0.000 total time=   0.1s\n",
      "[CV 1/5] END .................model__alpha=9.3;, score=-0.000 total time=   0.1s\n",
      "[CV 2/5] END .................model__alpha=9.3;, score=-0.000 total time=   0.1s\n",
      "[CV 3/5] END .................model__alpha=9.3;, score=-0.000 total time=   0.1s\n",
      "[CV 4/5] END .................model__alpha=9.3;, score=-0.000 total time=   0.1s\n",
      "[CV 5/5] END .................model__alpha=9.3;, score=-0.000 total time=   0.1s\n",
      "[CV 1/5] END .................model__alpha=9.4;, score=-0.000 total time=   0.1s\n",
      "[CV 2/5] END .................model__alpha=9.4;, score=-0.000 total time=   0.1s\n",
      "[CV 3/5] END .................model__alpha=9.4;, score=-0.000 total time=   0.1s\n",
      "[CV 4/5] END .................model__alpha=9.4;, score=-0.000 total time=   0.1s\n",
      "[CV 5/5] END .................model__alpha=9.4;, score=-0.000 total time=   0.1s\n",
      "[CV 1/5] END .................model__alpha=9.5;, score=-0.000 total time=   0.1s\n",
      "[CV 2/5] END .................model__alpha=9.5;, score=-0.000 total time=   0.1s\n",
      "[CV 3/5] END .................model__alpha=9.5;, score=-0.000 total time=   0.1s\n",
      "[CV 4/5] END .................model__alpha=9.5;, score=-0.000 total time=   0.1s\n",
      "[CV 5/5] END .................model__alpha=9.5;, score=-0.000 total time=   0.1s\n",
      "[CV 1/5] END ...model__alpha=9.600000000000001;, score=-0.000 total time=   0.1s\n",
      "[CV 2/5] END ...model__alpha=9.600000000000001;, score=-0.000 total time=   0.1s\n",
      "[CV 3/5] END ...model__alpha=9.600000000000001;, score=-0.000 total time=   0.1s\n",
      "[CV 4/5] END ...model__alpha=9.600000000000001;, score=-0.000 total time=   0.1s\n",
      "[CV 5/5] END ...model__alpha=9.600000000000001;, score=-0.000 total time=   0.1s\n",
      "[CV 1/5] END ...model__alpha=9.700000000000001;, score=-0.000 total time=   0.1s\n",
      "[CV 2/5] END ...model__alpha=9.700000000000001;, score=-0.000 total time=   0.1s\n",
      "[CV 3/5] END ...model__alpha=9.700000000000001;, score=-0.000 total time=   0.1s\n",
      "[CV 4/5] END ...model__alpha=9.700000000000001;, score=-0.000 total time=   0.1s\n",
      "[CV 5/5] END ...model__alpha=9.700000000000001;, score=-0.000 total time=   0.1s\n",
      "[CV 1/5] END .................model__alpha=9.8;, score=-0.000 total time=   0.1s\n",
      "[CV 2/5] END .................model__alpha=9.8;, score=-0.000 total time=   0.1s\n",
      "[CV 3/5] END .................model__alpha=9.8;, score=-0.000 total time=   0.1s\n",
      "[CV 4/5] END .................model__alpha=9.8;, score=-0.000 total time=   0.1s\n",
      "[CV 5/5] END .................model__alpha=9.8;, score=-0.000 total time=   0.1s\n",
      "[CV 1/5] END .................model__alpha=9.9;, score=-0.000 total time=   0.1s\n",
      "[CV 2/5] END .................model__alpha=9.9;, score=-0.000 total time=   0.1s\n",
      "[CV 3/5] END .................model__alpha=9.9;, score=-0.000 total time=   0.1s\n",
      "[CV 4/5] END .................model__alpha=9.9;, score=-0.000 total time=   0.1s\n",
      "[CV 5/5] END .................model__alpha=9.9;, score=-0.000 total time=   0.1s\n",
      "lasso_model.best_params_： {'model__alpha': 0.0}\n",
      "lasso_model.best_score_： 0.10982830422146006\n",
      "Training set R^2： 0.1101176321806504\n"
     ]
    }
   ],
   "source": [
    "from sklearn.linear_model import Lasso\n",
    "from sklearn.model_selection import GridSearchCV\n",
    "\n",
    "lasso= Lasso()\n",
    "parameters = {'model__alpha':np.arange(0,10,0.1)}\n",
    "lasso_model = GridSearchCV(pipeline, parameters, cv = 5, scoring=\"r2\",verbose=3) \n",
    "lasso_model.fit(X_train,y_train)  \n",
    "pred = lasso_model.predict(X_test)\n",
    "print('lasso_model.best_params_：',lasso_model.best_params_)   \n",
    "print('lasso_model.best_score_：',lasso_model.best_score_)   \n",
    "print('Training set R^2：',lasso_model.score(X_train,y_train))"
   ]
  },
  {
   "cell_type": "code",
   "execution_count": 149,
   "metadata": {},
   "outputs": [],
   "source": [
    "coefficients = lasso_model.best_estimator_.named_steps['model'].coef_"
   ]
  },
  {
   "cell_type": "code",
   "execution_count": 150,
   "metadata": {
    "scrolled": true
   },
   "outputs": [
    {
     "data": {
      "text/plain": [
       "array([0.43947062, 0.80566488, 0.35548984, 2.02079363, 0.29367183,\n",
       "       0.36709654, 0.00892054, 0.02806599, 0.06503694, 0.00614727,\n",
       "       0.01287999, 0.49329694, 0.43769952, 0.62917001, 0.3683409 ,\n",
       "       0.02898034, 0.26620916, 0.90129849, 0.0733916 , 0.35433692])"
      ]
     },
     "execution_count": 150,
     "metadata": {},
     "output_type": "execute_result"
    }
   ],
   "source": [
    "importance = np.abs(coefficients)\n",
    "importance"
   ]
  },
  {
   "cell_type": "code",
   "execution_count": 153,
   "metadata": {},
   "outputs": [],
   "source": [
    "features = ['flowInd', 'duration', 'numHdrDesc', 'numHdrs',\n",
    "             'l4Proto', 'macPairs', 'dstPortClassN', 'numPktsSnt', 'numPktsRcvd',\n",
    "            'numBytesSnt', 'numBytesRcvd', 'minPktSz', 'maxPktSz', 'avePktSize', 'stdPktSize', 'pktps', 'bytps',\n",
    "            'pktAsm', 'bytAsm', 'ipMindIPID', 'ipMaxdIPID', 'ipMinTTL', 'ipMaxTTL', 'ipTTLChg', 'ipOptCnt',\n",
    "            'tcpPSeqCnt', 'tcpSeqSntBytes', 'tcpSeqFaultCnt', 'tcpPAckCnt', 'tcpFlwLssAckRcvdBytes', 'tcpAckFaultCnt',\n",
    "            'tcpInitWinSz', 'tcpAveWinSz', 'tcpMinWinSz', 'tcpMaxWinSz', 'tcpWinSzDwnCnt', 'tcpWinSzUpCnt',\n",
    "            'tcpWinSzChgDirCnt', 'tcpOptPktCnt', 'tcpOptCnt', 'tcpMSS', 'tcpWS', 'tcpTmS', 'tcpTmER', 'tcpEcI',\n",
    "            'tcpBtm', 'tcpSSASAATrip', 'tcpRTTAckTripMin', 'tcpRTTAckTripMax', 'tcpRTTAckTripAve',\n",
    "            'tcpRTTAckTripJitAve', 'tcpRTTSseqAA', 'tcpRTTAckJitAve', 'icmpTCcnt', 'icmpEchoSuccRatio', 'icmpPFindex',\n",
    "            'connSip', 'connDip', 'connSipDip', 'connSipDprt', 'connF',  'aveIAT', 'maxIAT',\n",
    "                'minIAT', 'stdIAT', 'tcpISeqN', 'tcpMPAID', 'tcpUtm', 'tcpWinSzThRt','label']"
   ]
  },
  {
   "cell_type": "markdown",
   "metadata": {},
   "source": [
    "## ML Classifcation "
   ]
  },
  {
   "cell_type": "code",
   "execution_count": 167,
   "metadata": {},
   "outputs": [],
   "source": [
    "## Final feature vecotr \n",
    "features_vetor = [\"connDip\",\"connSip\",\"minPktSz\",\"duration\",\"pktAsm\",\"tcpRTTAckTripMax\",\"label\"]"
   ]
  },
  {
   "cell_type": "code",
   "execution_count": 176,
   "metadata": {},
   "outputs": [],
   "source": [
    "X = flows[features_vetor]\n",
    "Y = testing_flows[features_vetor]"
   ]
  },
  {
   "cell_type": "code",
   "execution_count": 177,
   "metadata": {},
   "outputs": [],
   "source": [
    "X_1 = X.iloc[:, X.columns != 'label']\n",
    "y = X.iloc[:, X.columns == 'label']\n",
    "\n",
    "X_train, X_test, y_train, y_test = train_test_split(X_1, y, test_size=0.50, random_state=1)\n",
    "\n",
    "sc_X = StandardScaler()\n",
    "X_train = sc_X.fit_transform(X_train)\n",
    "X_test = sc_X.transform(X_test)\n"
   ]
  },
  {
   "cell_type": "code",
   "execution_count": 178,
   "metadata": {},
   "outputs": [],
   "source": [
    "# # # # splitting and normalizing dataset.\n",
    "\n",
    "# X_train = X.iloc[:, X.columns != 'label']\n",
    "# y_train = X.iloc[:, X.columns == 'label']\n",
    "\n",
    "# X_test = Y.iloc[:, Y.columns != 'label']\n",
    "# y_test = Y.iloc[:, Y.columns == 'label']\n",
    "\n",
    "\n",
    "\n",
    "# sc_X = StandardScaler()\n",
    "# X_train = sc_X.fit_transform(X_train)\n",
    "# X_test = sc_X.transform(X_test)\n",
    "\n",
    "## Save StandardScaler\n",
    "# joblib.dump(sc_X, 'std_scaler.bin', compress=True)"
   ]
  },
  {
   "cell_type": "code",
   "execution_count": 179,
   "metadata": {},
   "outputs": [
    {
     "name": "stdout",
     "output_type": "stream",
     "text": [
      "Training Features Shape: (210810, 68)\n",
      "Training Labels Shape: (210810, 68)\n",
      "Testing Features Shape: (210810, 1)\n",
      "Testing Labels Shape: (210810, 1)\n"
     ]
    }
   ],
   "source": [
    "print('Training Features Shape:', X_train.shape)\n",
    "print('Training Labels Shape:', X_test.shape)\n",
    "print('Testing Features Shape:', y_train.shape)\n",
    "print('Testing Labels Shape:', y_test.shape)"
   ]
  },
  {
   "cell_type": "markdown",
   "metadata": {},
   "source": [
    "#### Random Forest Classifier"
   ]
  },
  {
   "cell_type": "code",
   "execution_count": 180,
   "metadata": {},
   "outputs": [],
   "source": [
    "classifier = RandomForestClassifier()\n",
    "classifier.fit(X_train, y_train)\n",
    "\n",
    "y_pred = classifier.predict(X_test)"
   ]
  },
  {
   "cell_type": "code",
   "execution_count": 181,
   "metadata": {},
   "outputs": [
    {
     "name": "stdout",
     "output_type": "stream",
     "text": [
      "Accuracy 0.81\n"
     ]
    }
   ],
   "source": [
    "print(\"Accuracy\", round(metrics.accuracy_score(y_test, y_pred),2))"
   ]
  },
  {
   "cell_type": "code",
   "execution_count": 431,
   "metadata": {},
   "outputs": [
    {
     "data": {
      "text/plain": [
       "['./random_forest.joblib']"
      ]
     },
     "execution_count": 431,
     "metadata": {},
     "output_type": "execute_result"
    }
   ],
   "source": [
    "## save RandomForestClassifier model\n",
    "joblib.dump(classifier, \"./random_forest.joblib\")"
   ]
  },
  {
   "cell_type": "markdown",
   "metadata": {},
   "source": [
    "#### K-Neighbors Classifier"
   ]
  },
  {
   "cell_type": "code",
   "execution_count": 182,
   "metadata": {},
   "outputs": [],
   "source": [
    "knn = KNeighborsClassifier(n_neighbors=20)\n",
    "knn.fit(X_train, y_train)\n",
    "y_pred2 = knn.predict(X_test)"
   ]
  },
  {
   "cell_type": "code",
   "execution_count": 183,
   "metadata": {},
   "outputs": [
    {
     "name": "stdout",
     "output_type": "stream",
     "text": [
      "Accuracy 0.81\n"
     ]
    }
   ],
   "source": [
    "print(\"Accuracy\", round(metrics.accuracy_score(y_test, y_pred2),2))"
   ]
  },
  {
   "cell_type": "code",
   "execution_count": 433,
   "metadata": {},
   "outputs": [
    {
     "data": {
      "text/plain": [
       "['./KNeighborsClassifier.joblib']"
      ]
     },
     "execution_count": 433,
     "metadata": {},
     "output_type": "execute_result"
    }
   ],
   "source": [
    "joblib.dump(knn, \"./KNeighborsClassifier.joblib\")"
   ]
  },
  {
   "cell_type": "markdown",
   "metadata": {},
   "source": [
    "## Prediction / Verification"
   ]
  },
  {
   "cell_type": "code",
   "execution_count": 187,
   "metadata": {},
   "outputs": [],
   "source": [
    "features.remove(\"label\")"
   ]
  },
  {
   "cell_type": "code",
   "execution_count": 188,
   "metadata": {},
   "outputs": [],
   "source": [
    "y_pred = knn.predict(t_cloudcam_flows[features])"
   ]
  },
  {
   "cell_type": "code",
   "execution_count": 193,
   "metadata": {},
   "outputs": [
    {
     "name": "stdout",
     "output_type": "stream",
     "text": [
      "***** Device Classification :  [['microseven camera', 676], ['fridge', 253], ['bulb', 166], ['homemini', 66], ['washer', 15], ['amazon Echo', 3], ['camera', 1], ['doorbell', 1]] *****\n"
     ]
    }
   ],
   "source": [
    "result = Counter(y_pred).most_common()\n",
    "res = [list(ele) for ele in result]\n",
    "f = open('device_label.json')\n",
    "data = json.load(f)\n",
    "dataList =  data['lables']\n",
    "for i in res:\n",
    "    for index in range(len(data['lables'])):\n",
    "        if (i[0] == index):\n",
    "            for key in dataList[index]:\n",
    "                i[0]= dataList[index][key]\n",
    "    if (i[0] == 20):\n",
    "        i[0]= \"amazon Echo\"\n",
    "print(\"***** Device Classification : \",res,\"*****\")"
   ]
  },
  {
   "cell_type": "code",
   "execution_count": null,
   "metadata": {},
   "outputs": [],
   "source": []
  }
 ],
 "metadata": {
  "kernelspec": {
   "display_name": "Python 3 (ipykernel)",
   "language": "python",
   "name": "python3"
  },
  "language_info": {
   "codemirror_mode": {
    "name": "ipython",
    "version": 3
   },
   "file_extension": ".py",
   "mimetype": "text/x-python",
   "name": "python",
   "nbconvert_exporter": "python",
   "pygments_lexer": "ipython3",
   "version": "3.7.12"
  },
  "toc": {
   "base_numbering": 1,
   "nav_menu": {},
   "number_sections": true,
   "sideBar": true,
   "skip_h1_title": false,
   "title_cell": "Table of Contents",
   "title_sidebar": "Contents",
   "toc_cell": false,
   "toc_position": {},
   "toc_section_display": true,
   "toc_window_display": false
  }
 },
 "nbformat": 4,
 "nbformat_minor": 2
}
